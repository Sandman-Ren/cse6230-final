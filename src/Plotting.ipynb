{
 "cells": [
  {
   "cell_type": "markdown",
   "metadata": {
    "collapsed": true,
    "pycharm": {
     "name": "#%% md\n"
    }
   },
   "source": [
    "# TIGRE benchmark visualization"
   ]
  },
  {
   "cell_type": "code",
   "execution_count": 1,
   "outputs": [],
   "source": [
    "import os\n",
    "import sys\n",
    "from pathlib import Path\n",
    "from os import PathLike\n",
    "\n",
    "import numpy as np\n",
    "import pandas as pd\n",
    "import matplotlib.pyplot as plt\n",
    "\n",
    "import seaborn as sns"
   ],
   "metadata": {
    "collapsed": false,
    "pycharm": {
     "name": "#%%\n"
    }
   }
  },
  {
   "cell_type": "code",
   "execution_count": 2,
   "outputs": [
    {
     "data": {
      "text/plain": "WindowsPath('E:/gatech/courses/cse-6230-high-performance-parallel-computing/assignments/cse6230-final/src/benchmark/NumGPU_1_NameGPU_Tesla V100-PCIE-32GB_NumRound_5_Data_shepp_CGLS_only.json')"
     },
     "execution_count": 2,
     "metadata": {},
     "output_type": "execute_result"
    }
   ],
   "source": [
    "data_dir = Path.cwd() / \"benchmark/\"    # expect this to be project_root/src/benchmark/\n",
    "data_files = list(data_dir.glob(\"*.json\"))\n",
    "data_files[0]"
   ],
   "metadata": {
    "collapsed": false,
    "pycharm": {
     "name": "#%%\n"
    }
   }
  },
  {
   "cell_type": "code",
   "execution_count": 3,
   "outputs": [
    {
     "data": {
      "text/plain": "  method  image_size  nangles  average_time       nRMSE  niter  num_gpus\n0   CGLS          32       50      1.503667  102.003609    5.0         1\n1   CGLS          32      100      1.517155  101.167366    5.0         1\n2   CGLS          32      200      1.576894  101.124181    5.0         1\n3   CGLS          32      400      1.640932  101.105221    5.0         1\n4   CGLS          32      800      1.765042  101.107012    5.0         1",
      "text/html": "<div>\n<style scoped>\n    .dataframe tbody tr th:only-of-type {\n        vertical-align: middle;\n    }\n\n    .dataframe tbody tr th {\n        vertical-align: top;\n    }\n\n    .dataframe thead th {\n        text-align: right;\n    }\n</style>\n<table border=\"1\" class=\"dataframe\">\n  <thead>\n    <tr style=\"text-align: right;\">\n      <th></th>\n      <th>method</th>\n      <th>image_size</th>\n      <th>nangles</th>\n      <th>average_time</th>\n      <th>nRMSE</th>\n      <th>niter</th>\n      <th>num_gpus</th>\n    </tr>\n  </thead>\n  <tbody>\n    <tr>\n      <th>0</th>\n      <td>CGLS</td>\n      <td>32</td>\n      <td>50</td>\n      <td>1.503667</td>\n      <td>102.003609</td>\n      <td>5.0</td>\n      <td>1</td>\n    </tr>\n    <tr>\n      <th>1</th>\n      <td>CGLS</td>\n      <td>32</td>\n      <td>100</td>\n      <td>1.517155</td>\n      <td>101.167366</td>\n      <td>5.0</td>\n      <td>1</td>\n    </tr>\n    <tr>\n      <th>2</th>\n      <td>CGLS</td>\n      <td>32</td>\n      <td>200</td>\n      <td>1.576894</td>\n      <td>101.124181</td>\n      <td>5.0</td>\n      <td>1</td>\n    </tr>\n    <tr>\n      <th>3</th>\n      <td>CGLS</td>\n      <td>32</td>\n      <td>400</td>\n      <td>1.640932</td>\n      <td>101.105221</td>\n      <td>5.0</td>\n      <td>1</td>\n    </tr>\n    <tr>\n      <th>4</th>\n      <td>CGLS</td>\n      <td>32</td>\n      <td>800</td>\n      <td>1.765042</td>\n      <td>101.107012</td>\n      <td>5.0</td>\n      <td>1</td>\n    </tr>\n  </tbody>\n</table>\n</div>"
     },
     "execution_count": 3,
     "metadata": {},
     "output_type": "execute_result"
    }
   ],
   "source": [
    "dfs = []\n",
    "for f in data_files:\n",
    "    df = pd.read_json(str(f))\n",
    "    name_parts = f.stem.split(\"_\")\n",
    "    # print(name_parts)\n",
    "    num_gpus = int(name_parts[name_parts.index(\"NumGPU\") + 1])\n",
    "    df['num_gpus'] = num_gpus\n",
    "    dfs.append(df)\n",
    "df: pd.DataFrame = pd.concat(dfs)\n",
    "df.head()"
   ],
   "metadata": {
    "collapsed": false,
    "pycharm": {
     "name": "#%%\n"
    }
   }
  },
  {
   "cell_type": "code",
   "execution_count": 4,
   "outputs": [
    {
     "data": {
      "text/plain": "  Method  Image Size  Number of angles  Average Time       nRMSE  \\\n0   CGLS          32                50      1.503667  102.003609   \n1   CGLS          32               100      1.517155  101.167366   \n2   CGLS          32               200      1.576894  101.124181   \n3   CGLS          32               400      1.640932  101.105221   \n4   CGLS          32               800      1.765042  101.107012   \n\n   Number of iterations  Number of GPUs  \n0                   5.0               1  \n1                   5.0               1  \n2                   5.0               1  \n3                   5.0               1  \n4                   5.0               1  ",
      "text/html": "<div>\n<style scoped>\n    .dataframe tbody tr th:only-of-type {\n        vertical-align: middle;\n    }\n\n    .dataframe tbody tr th {\n        vertical-align: top;\n    }\n\n    .dataframe thead th {\n        text-align: right;\n    }\n</style>\n<table border=\"1\" class=\"dataframe\">\n  <thead>\n    <tr style=\"text-align: right;\">\n      <th></th>\n      <th>Method</th>\n      <th>Image Size</th>\n      <th>Number of angles</th>\n      <th>Average Time</th>\n      <th>nRMSE</th>\n      <th>Number of iterations</th>\n      <th>Number of GPUs</th>\n    </tr>\n  </thead>\n  <tbody>\n    <tr>\n      <th>0</th>\n      <td>CGLS</td>\n      <td>32</td>\n      <td>50</td>\n      <td>1.503667</td>\n      <td>102.003609</td>\n      <td>5.0</td>\n      <td>1</td>\n    </tr>\n    <tr>\n      <th>1</th>\n      <td>CGLS</td>\n      <td>32</td>\n      <td>100</td>\n      <td>1.517155</td>\n      <td>101.167366</td>\n      <td>5.0</td>\n      <td>1</td>\n    </tr>\n    <tr>\n      <th>2</th>\n      <td>CGLS</td>\n      <td>32</td>\n      <td>200</td>\n      <td>1.576894</td>\n      <td>101.124181</td>\n      <td>5.0</td>\n      <td>1</td>\n    </tr>\n    <tr>\n      <th>3</th>\n      <td>CGLS</td>\n      <td>32</td>\n      <td>400</td>\n      <td>1.640932</td>\n      <td>101.105221</td>\n      <td>5.0</td>\n      <td>1</td>\n    </tr>\n    <tr>\n      <th>4</th>\n      <td>CGLS</td>\n      <td>32</td>\n      <td>800</td>\n      <td>1.765042</td>\n      <td>101.107012</td>\n      <td>5.0</td>\n      <td>1</td>\n    </tr>\n  </tbody>\n</table>\n</div>"
     },
     "execution_count": 4,
     "metadata": {},
     "output_type": "execute_result"
    }
   ],
   "source": [
    "df = df.rename(\n",
    "    columns={\n",
    "        'method': 'Method',\n",
    "        'image_size': 'Image Size',\n",
    "        'nangles': 'Number of angles',\n",
    "        'average_time': 'Average Time',\n",
    "        'niter': 'Number of iterations',\n",
    "        'num_gpus': 'Number of GPUs',\n",
    "    }\n",
    ")\n",
    "df.head()"
   ],
   "metadata": {
    "collapsed": false,
    "pycharm": {
     "name": "#%%\n"
    }
   }
  },
  {
   "cell_type": "code",
   "execution_count": 5,
   "outputs": [
    {
     "name": "stdout",
     "output_type": "stream",
     "text": [
      "DOF: Image Size\n",
      "Saving figure to E:\\gatech\\courses\\cse-6230-high-performance-parallel-computing\\assignments\\cse6230-final\\src\\figures\\Number of angles.50-Number of GPUs.1-nRMSE.jpg\n",
      "Saving figure to E:\\gatech\\courses\\cse-6230-high-performance-parallel-computing\\assignments\\cse6230-final\\src\\figures\\Number of angles.50-Number of GPUs.1-Average Time.jpg\n",
      "Saving figure to E:\\gatech\\courses\\cse-6230-high-performance-parallel-computing\\assignments\\cse6230-final\\src\\figures\\Number of angles.50-Number of GPUs.2-nRMSE.jpg\n",
      "Saving figure to E:\\gatech\\courses\\cse-6230-high-performance-parallel-computing\\assignments\\cse6230-final\\src\\figures\\Number of angles.50-Number of GPUs.2-Average Time.jpg\n",
      "Saving figure to E:\\gatech\\courses\\cse-6230-high-performance-parallel-computing\\assignments\\cse6230-final\\src\\figures\\Number of angles.50-Number of GPUs.3-nRMSE.jpg\n",
      "Saving figure to E:\\gatech\\courses\\cse-6230-high-performance-parallel-computing\\assignments\\cse6230-final\\src\\figures\\Number of angles.50-Number of GPUs.3-Average Time.jpg\n",
      "Saving figure to E:\\gatech\\courses\\cse-6230-high-performance-parallel-computing\\assignments\\cse6230-final\\src\\figures\\Number of angles.50-Number of GPUs.4-nRMSE.jpg\n",
      "Saving figure to E:\\gatech\\courses\\cse-6230-high-performance-parallel-computing\\assignments\\cse6230-final\\src\\figures\\Number of angles.50-Number of GPUs.4-Average Time.jpg\n",
      "Saving figure to E:\\gatech\\courses\\cse-6230-high-performance-parallel-computing\\assignments\\cse6230-final\\src\\figures\\Number of angles.100-Number of GPUs.1-nRMSE.jpg\n",
      "Saving figure to E:\\gatech\\courses\\cse-6230-high-performance-parallel-computing\\assignments\\cse6230-final\\src\\figures\\Number of angles.100-Number of GPUs.1-Average Time.jpg\n",
      "Saving figure to E:\\gatech\\courses\\cse-6230-high-performance-parallel-computing\\assignments\\cse6230-final\\src\\figures\\Number of angles.100-Number of GPUs.2-nRMSE.jpg\n",
      "Saving figure to E:\\gatech\\courses\\cse-6230-high-performance-parallel-computing\\assignments\\cse6230-final\\src\\figures\\Number of angles.100-Number of GPUs.2-Average Time.jpg\n",
      "Saving figure to E:\\gatech\\courses\\cse-6230-high-performance-parallel-computing\\assignments\\cse6230-final\\src\\figures\\Number of angles.100-Number of GPUs.3-nRMSE.jpg\n",
      "Saving figure to E:\\gatech\\courses\\cse-6230-high-performance-parallel-computing\\assignments\\cse6230-final\\src\\figures\\Number of angles.100-Number of GPUs.3-Average Time.jpg\n",
      "Saving figure to E:\\gatech\\courses\\cse-6230-high-performance-parallel-computing\\assignments\\cse6230-final\\src\\figures\\Number of angles.100-Number of GPUs.4-nRMSE.jpg\n",
      "Saving figure to E:\\gatech\\courses\\cse-6230-high-performance-parallel-computing\\assignments\\cse6230-final\\src\\figures\\Number of angles.100-Number of GPUs.4-Average Time.jpg\n",
      "Saving figure to E:\\gatech\\courses\\cse-6230-high-performance-parallel-computing\\assignments\\cse6230-final\\src\\figures\\Number of angles.200-Number of GPUs.1-nRMSE.jpg\n",
      "Saving figure to E:\\gatech\\courses\\cse-6230-high-performance-parallel-computing\\assignments\\cse6230-final\\src\\figures\\Number of angles.200-Number of GPUs.1-Average Time.jpg\n",
      "Saving figure to E:\\gatech\\courses\\cse-6230-high-performance-parallel-computing\\assignments\\cse6230-final\\src\\figures\\Number of angles.200-Number of GPUs.2-nRMSE.jpg\n",
      "Saving figure to E:\\gatech\\courses\\cse-6230-high-performance-parallel-computing\\assignments\\cse6230-final\\src\\figures\\Number of angles.200-Number of GPUs.2-Average Time.jpg\n",
      "Saving figure to E:\\gatech\\courses\\cse-6230-high-performance-parallel-computing\\assignments\\cse6230-final\\src\\figures\\Number of angles.200-Number of GPUs.3-nRMSE.jpg\n",
      "Saving figure to E:\\gatech\\courses\\cse-6230-high-performance-parallel-computing\\assignments\\cse6230-final\\src\\figures\\Number of angles.200-Number of GPUs.3-Average Time.jpg\n",
      "Saving figure to E:\\gatech\\courses\\cse-6230-high-performance-parallel-computing\\assignments\\cse6230-final\\src\\figures\\Number of angles.200-Number of GPUs.4-nRMSE.jpg\n",
      "Saving figure to E:\\gatech\\courses\\cse-6230-high-performance-parallel-computing\\assignments\\cse6230-final\\src\\figures\\Number of angles.200-Number of GPUs.4-Average Time.jpg\n",
      "Saving figure to E:\\gatech\\courses\\cse-6230-high-performance-parallel-computing\\assignments\\cse6230-final\\src\\figures\\Number of angles.400-Number of GPUs.1-nRMSE.jpg\n",
      "Saving figure to E:\\gatech\\courses\\cse-6230-high-performance-parallel-computing\\assignments\\cse6230-final\\src\\figures\\Number of angles.400-Number of GPUs.1-Average Time.jpg\n",
      "Saving figure to E:\\gatech\\courses\\cse-6230-high-performance-parallel-computing\\assignments\\cse6230-final\\src\\figures\\Number of angles.400-Number of GPUs.2-nRMSE.jpg\n",
      "Saving figure to E:\\gatech\\courses\\cse-6230-high-performance-parallel-computing\\assignments\\cse6230-final\\src\\figures\\Number of angles.400-Number of GPUs.2-Average Time.jpg\n",
      "Saving figure to E:\\gatech\\courses\\cse-6230-high-performance-parallel-computing\\assignments\\cse6230-final\\src\\figures\\Number of angles.400-Number of GPUs.3-nRMSE.jpg\n",
      "Saving figure to E:\\gatech\\courses\\cse-6230-high-performance-parallel-computing\\assignments\\cse6230-final\\src\\figures\\Number of angles.400-Number of GPUs.3-Average Time.jpg\n",
      "Saving figure to E:\\gatech\\courses\\cse-6230-high-performance-parallel-computing\\assignments\\cse6230-final\\src\\figures\\Number of angles.400-Number of GPUs.4-nRMSE.jpg\n",
      "Saving figure to E:\\gatech\\courses\\cse-6230-high-performance-parallel-computing\\assignments\\cse6230-final\\src\\figures\\Number of angles.400-Number of GPUs.4-Average Time.jpg\n",
      "Saving figure to E:\\gatech\\courses\\cse-6230-high-performance-parallel-computing\\assignments\\cse6230-final\\src\\figures\\Number of angles.800-Number of GPUs.1-nRMSE.jpg\n",
      "Saving figure to E:\\gatech\\courses\\cse-6230-high-performance-parallel-computing\\assignments\\cse6230-final\\src\\figures\\Number of angles.800-Number of GPUs.1-Average Time.jpg\n",
      "Saving figure to E:\\gatech\\courses\\cse-6230-high-performance-parallel-computing\\assignments\\cse6230-final\\src\\figures\\Number of angles.800-Number of GPUs.2-nRMSE.jpg\n",
      "Saving figure to E:\\gatech\\courses\\cse-6230-high-performance-parallel-computing\\assignments\\cse6230-final\\src\\figures\\Number of angles.800-Number of GPUs.2-Average Time.jpg\n",
      "Saving figure to E:\\gatech\\courses\\cse-6230-high-performance-parallel-computing\\assignments\\cse6230-final\\src\\figures\\Number of angles.800-Number of GPUs.3-nRMSE.jpg\n",
      "Saving figure to E:\\gatech\\courses\\cse-6230-high-performance-parallel-computing\\assignments\\cse6230-final\\src\\figures\\Number of angles.800-Number of GPUs.3-Average Time.jpg\n",
      "Saving figure to E:\\gatech\\courses\\cse-6230-high-performance-parallel-computing\\assignments\\cse6230-final\\src\\figures\\Number of angles.800-Number of GPUs.4-nRMSE.jpg\n",
      "Saving figure to E:\\gatech\\courses\\cse-6230-high-performance-parallel-computing\\assignments\\cse6230-final\\src\\figures\\Number of angles.800-Number of GPUs.4-Average Time.jpg\n",
      "DOF: Number of angles\n",
      "Saving figure to E:\\gatech\\courses\\cse-6230-high-performance-parallel-computing\\assignments\\cse6230-final\\src\\figures\\Number of GPUs.1-Image Size.32-nRMSE.jpg\n",
      "Saving figure to E:\\gatech\\courses\\cse-6230-high-performance-parallel-computing\\assignments\\cse6230-final\\src\\figures\\Number of GPUs.1-Image Size.32-Average Time.jpg\n",
      "Saving figure to E:\\gatech\\courses\\cse-6230-high-performance-parallel-computing\\assignments\\cse6230-final\\src\\figures\\Number of GPUs.1-Image Size.64-nRMSE.jpg\n",
      "Saving figure to E:\\gatech\\courses\\cse-6230-high-performance-parallel-computing\\assignments\\cse6230-final\\src\\figures\\Number of GPUs.1-Image Size.64-Average Time.jpg\n",
      "Saving figure to E:\\gatech\\courses\\cse-6230-high-performance-parallel-computing\\assignments\\cse6230-final\\src\\figures\\Number of GPUs.1-Image Size.128-nRMSE.jpg\n",
      "Saving figure to E:\\gatech\\courses\\cse-6230-high-performance-parallel-computing\\assignments\\cse6230-final\\src\\figures\\Number of GPUs.1-Image Size.128-Average Time.jpg\n",
      "Saving figure to E:\\gatech\\courses\\cse-6230-high-performance-parallel-computing\\assignments\\cse6230-final\\src\\figures\\Number of GPUs.1-Image Size.256-nRMSE.jpg\n",
      "Saving figure to E:\\gatech\\courses\\cse-6230-high-performance-parallel-computing\\assignments\\cse6230-final\\src\\figures\\Number of GPUs.1-Image Size.256-Average Time.jpg\n",
      "Saving figure to E:\\gatech\\courses\\cse-6230-high-performance-parallel-computing\\assignments\\cse6230-final\\src\\figures\\Number of GPUs.1-Image Size.512-nRMSE.jpg\n",
      "Saving figure to E:\\gatech\\courses\\cse-6230-high-performance-parallel-computing\\assignments\\cse6230-final\\src\\figures\\Number of GPUs.1-Image Size.512-Average Time.jpg\n",
      "Saving figure to E:\\gatech\\courses\\cse-6230-high-performance-parallel-computing\\assignments\\cse6230-final\\src\\figures\\Number of GPUs.1-Image Size.1024-nRMSE.jpg\n",
      "Saving figure to E:\\gatech\\courses\\cse-6230-high-performance-parallel-computing\\assignments\\cse6230-final\\src\\figures\\Number of GPUs.1-Image Size.1024-Average Time.jpg\n",
      "Saving figure to E:\\gatech\\courses\\cse-6230-high-performance-parallel-computing\\assignments\\cse6230-final\\src\\figures\\Number of GPUs.2-Image Size.32-nRMSE.jpg\n",
      "Saving figure to E:\\gatech\\courses\\cse-6230-high-performance-parallel-computing\\assignments\\cse6230-final\\src\\figures\\Number of GPUs.2-Image Size.32-Average Time.jpg\n",
      "Saving figure to E:\\gatech\\courses\\cse-6230-high-performance-parallel-computing\\assignments\\cse6230-final\\src\\figures\\Number of GPUs.2-Image Size.64-nRMSE.jpg\n",
      "Saving figure to E:\\gatech\\courses\\cse-6230-high-performance-parallel-computing\\assignments\\cse6230-final\\src\\figures\\Number of GPUs.2-Image Size.64-Average Time.jpg\n",
      "Saving figure to E:\\gatech\\courses\\cse-6230-high-performance-parallel-computing\\assignments\\cse6230-final\\src\\figures\\Number of GPUs.2-Image Size.128-nRMSE.jpg\n",
      "Saving figure to E:\\gatech\\courses\\cse-6230-high-performance-parallel-computing\\assignments\\cse6230-final\\src\\figures\\Number of GPUs.2-Image Size.128-Average Time.jpg\n",
      "Saving figure to E:\\gatech\\courses\\cse-6230-high-performance-parallel-computing\\assignments\\cse6230-final\\src\\figures\\Number of GPUs.2-Image Size.256-nRMSE.jpg\n",
      "Saving figure to E:\\gatech\\courses\\cse-6230-high-performance-parallel-computing\\assignments\\cse6230-final\\src\\figures\\Number of GPUs.2-Image Size.256-Average Time.jpg\n",
      "Saving figure to E:\\gatech\\courses\\cse-6230-high-performance-parallel-computing\\assignments\\cse6230-final\\src\\figures\\Number of GPUs.2-Image Size.512-nRMSE.jpg\n",
      "Saving figure to E:\\gatech\\courses\\cse-6230-high-performance-parallel-computing\\assignments\\cse6230-final\\src\\figures\\Number of GPUs.2-Image Size.512-Average Time.jpg\n",
      "Saving figure to E:\\gatech\\courses\\cse-6230-high-performance-parallel-computing\\assignments\\cse6230-final\\src\\figures\\Number of GPUs.2-Image Size.1024-nRMSE.jpg\n",
      "Saving figure to E:\\gatech\\courses\\cse-6230-high-performance-parallel-computing\\assignments\\cse6230-final\\src\\figures\\Number of GPUs.2-Image Size.1024-Average Time.jpg\n",
      "Saving figure to E:\\gatech\\courses\\cse-6230-high-performance-parallel-computing\\assignments\\cse6230-final\\src\\figures\\Number of GPUs.3-Image Size.32-nRMSE.jpg\n",
      "Saving figure to E:\\gatech\\courses\\cse-6230-high-performance-parallel-computing\\assignments\\cse6230-final\\src\\figures\\Number of GPUs.3-Image Size.32-Average Time.jpg\n",
      "Saving figure to E:\\gatech\\courses\\cse-6230-high-performance-parallel-computing\\assignments\\cse6230-final\\src\\figures\\Number of GPUs.3-Image Size.64-nRMSE.jpg\n",
      "Saving figure to E:\\gatech\\courses\\cse-6230-high-performance-parallel-computing\\assignments\\cse6230-final\\src\\figures\\Number of GPUs.3-Image Size.64-Average Time.jpg\n",
      "Saving figure to E:\\gatech\\courses\\cse-6230-high-performance-parallel-computing\\assignments\\cse6230-final\\src\\figures\\Number of GPUs.3-Image Size.128-nRMSE.jpg\n",
      "Saving figure to E:\\gatech\\courses\\cse-6230-high-performance-parallel-computing\\assignments\\cse6230-final\\src\\figures\\Number of GPUs.3-Image Size.128-Average Time.jpg\n",
      "Saving figure to E:\\gatech\\courses\\cse-6230-high-performance-parallel-computing\\assignments\\cse6230-final\\src\\figures\\Number of GPUs.3-Image Size.256-nRMSE.jpg\n",
      "Saving figure to E:\\gatech\\courses\\cse-6230-high-performance-parallel-computing\\assignments\\cse6230-final\\src\\figures\\Number of GPUs.3-Image Size.256-Average Time.jpg\n",
      "Saving figure to E:\\gatech\\courses\\cse-6230-high-performance-parallel-computing\\assignments\\cse6230-final\\src\\figures\\Number of GPUs.3-Image Size.512-nRMSE.jpg\n",
      "Saving figure to E:\\gatech\\courses\\cse-6230-high-performance-parallel-computing\\assignments\\cse6230-final\\src\\figures\\Number of GPUs.3-Image Size.512-Average Time.jpg\n",
      "Saving figure to E:\\gatech\\courses\\cse-6230-high-performance-parallel-computing\\assignments\\cse6230-final\\src\\figures\\Number of GPUs.3-Image Size.1024-nRMSE.jpg\n",
      "Saving figure to E:\\gatech\\courses\\cse-6230-high-performance-parallel-computing\\assignments\\cse6230-final\\src\\figures\\Number of GPUs.3-Image Size.1024-Average Time.jpg\n",
      "Saving figure to E:\\gatech\\courses\\cse-6230-high-performance-parallel-computing\\assignments\\cse6230-final\\src\\figures\\Number of GPUs.4-Image Size.32-nRMSE.jpg\n",
      "Saving figure to E:\\gatech\\courses\\cse-6230-high-performance-parallel-computing\\assignments\\cse6230-final\\src\\figures\\Number of GPUs.4-Image Size.32-Average Time.jpg\n",
      "Saving figure to E:\\gatech\\courses\\cse-6230-high-performance-parallel-computing\\assignments\\cse6230-final\\src\\figures\\Number of GPUs.4-Image Size.64-nRMSE.jpg\n",
      "Saving figure to E:\\gatech\\courses\\cse-6230-high-performance-parallel-computing\\assignments\\cse6230-final\\src\\figures\\Number of GPUs.4-Image Size.64-Average Time.jpg\n",
      "Saving figure to E:\\gatech\\courses\\cse-6230-high-performance-parallel-computing\\assignments\\cse6230-final\\src\\figures\\Number of GPUs.4-Image Size.128-nRMSE.jpg\n",
      "Saving figure to E:\\gatech\\courses\\cse-6230-high-performance-parallel-computing\\assignments\\cse6230-final\\src\\figures\\Number of GPUs.4-Image Size.128-Average Time.jpg\n",
      "Saving figure to E:\\gatech\\courses\\cse-6230-high-performance-parallel-computing\\assignments\\cse6230-final\\src\\figures\\Number of GPUs.4-Image Size.256-nRMSE.jpg\n",
      "Saving figure to E:\\gatech\\courses\\cse-6230-high-performance-parallel-computing\\assignments\\cse6230-final\\src\\figures\\Number of GPUs.4-Image Size.256-Average Time.jpg\n",
      "Saving figure to E:\\gatech\\courses\\cse-6230-high-performance-parallel-computing\\assignments\\cse6230-final\\src\\figures\\Number of GPUs.4-Image Size.512-nRMSE.jpg\n",
      "Saving figure to E:\\gatech\\courses\\cse-6230-high-performance-parallel-computing\\assignments\\cse6230-final\\src\\figures\\Number of GPUs.4-Image Size.512-Average Time.jpg\n",
      "Saving figure to E:\\gatech\\courses\\cse-6230-high-performance-parallel-computing\\assignments\\cse6230-final\\src\\figures\\Number of GPUs.4-Image Size.1024-nRMSE.jpg\n",
      "Saving figure to E:\\gatech\\courses\\cse-6230-high-performance-parallel-computing\\assignments\\cse6230-final\\src\\figures\\Number of GPUs.4-Image Size.1024-Average Time.jpg\n",
      "DOF: Number of GPUs\n",
      "Saving figure to E:\\gatech\\courses\\cse-6230-high-performance-parallel-computing\\assignments\\cse6230-final\\src\\figures\\Number of angles.50-Image Size.32-nRMSE.jpg\n",
      "Saving figure to E:\\gatech\\courses\\cse-6230-high-performance-parallel-computing\\assignments\\cse6230-final\\src\\figures\\Number of angles.50-Image Size.32-Average Time.jpg\n",
      "Saving figure to E:\\gatech\\courses\\cse-6230-high-performance-parallel-computing\\assignments\\cse6230-final\\src\\figures\\Number of angles.50-Image Size.64-nRMSE.jpg\n",
      "Saving figure to E:\\gatech\\courses\\cse-6230-high-performance-parallel-computing\\assignments\\cse6230-final\\src\\figures\\Number of angles.50-Image Size.64-Average Time.jpg\n",
      "Saving figure to E:\\gatech\\courses\\cse-6230-high-performance-parallel-computing\\assignments\\cse6230-final\\src\\figures\\Number of angles.50-Image Size.128-nRMSE.jpg\n",
      "Saving figure to E:\\gatech\\courses\\cse-6230-high-performance-parallel-computing\\assignments\\cse6230-final\\src\\figures\\Number of angles.50-Image Size.128-Average Time.jpg\n",
      "Saving figure to E:\\gatech\\courses\\cse-6230-high-performance-parallel-computing\\assignments\\cse6230-final\\src\\figures\\Number of angles.50-Image Size.256-nRMSE.jpg\n",
      "Saving figure to E:\\gatech\\courses\\cse-6230-high-performance-parallel-computing\\assignments\\cse6230-final\\src\\figures\\Number of angles.50-Image Size.256-Average Time.jpg\n",
      "Saving figure to E:\\gatech\\courses\\cse-6230-high-performance-parallel-computing\\assignments\\cse6230-final\\src\\figures\\Number of angles.50-Image Size.512-nRMSE.jpg\n",
      "Saving figure to E:\\gatech\\courses\\cse-6230-high-performance-parallel-computing\\assignments\\cse6230-final\\src\\figures\\Number of angles.50-Image Size.512-Average Time.jpg\n",
      "Saving figure to E:\\gatech\\courses\\cse-6230-high-performance-parallel-computing\\assignments\\cse6230-final\\src\\figures\\Number of angles.50-Image Size.1024-nRMSE.jpg\n",
      "Saving figure to E:\\gatech\\courses\\cse-6230-high-performance-parallel-computing\\assignments\\cse6230-final\\src\\figures\\Number of angles.50-Image Size.1024-Average Time.jpg\n",
      "Saving figure to E:\\gatech\\courses\\cse-6230-high-performance-parallel-computing\\assignments\\cse6230-final\\src\\figures\\Number of angles.100-Image Size.32-nRMSE.jpg\n",
      "Saving figure to E:\\gatech\\courses\\cse-6230-high-performance-parallel-computing\\assignments\\cse6230-final\\src\\figures\\Number of angles.100-Image Size.32-Average Time.jpg\n",
      "Saving figure to E:\\gatech\\courses\\cse-6230-high-performance-parallel-computing\\assignments\\cse6230-final\\src\\figures\\Number of angles.100-Image Size.64-nRMSE.jpg\n",
      "Saving figure to E:\\gatech\\courses\\cse-6230-high-performance-parallel-computing\\assignments\\cse6230-final\\src\\figures\\Number of angles.100-Image Size.64-Average Time.jpg\n",
      "Saving figure to E:\\gatech\\courses\\cse-6230-high-performance-parallel-computing\\assignments\\cse6230-final\\src\\figures\\Number of angles.100-Image Size.128-nRMSE.jpg\n",
      "Saving figure to E:\\gatech\\courses\\cse-6230-high-performance-parallel-computing\\assignments\\cse6230-final\\src\\figures\\Number of angles.100-Image Size.128-Average Time.jpg\n",
      "Saving figure to E:\\gatech\\courses\\cse-6230-high-performance-parallel-computing\\assignments\\cse6230-final\\src\\figures\\Number of angles.100-Image Size.256-nRMSE.jpg\n",
      "Saving figure to E:\\gatech\\courses\\cse-6230-high-performance-parallel-computing\\assignments\\cse6230-final\\src\\figures\\Number of angles.100-Image Size.256-Average Time.jpg\n",
      "Saving figure to E:\\gatech\\courses\\cse-6230-high-performance-parallel-computing\\assignments\\cse6230-final\\src\\figures\\Number of angles.100-Image Size.512-nRMSE.jpg\n",
      "Saving figure to E:\\gatech\\courses\\cse-6230-high-performance-parallel-computing\\assignments\\cse6230-final\\src\\figures\\Number of angles.100-Image Size.512-Average Time.jpg\n",
      "Saving figure to E:\\gatech\\courses\\cse-6230-high-performance-parallel-computing\\assignments\\cse6230-final\\src\\figures\\Number of angles.100-Image Size.1024-nRMSE.jpg\n",
      "Saving figure to E:\\gatech\\courses\\cse-6230-high-performance-parallel-computing\\assignments\\cse6230-final\\src\\figures\\Number of angles.100-Image Size.1024-Average Time.jpg\n",
      "Saving figure to E:\\gatech\\courses\\cse-6230-high-performance-parallel-computing\\assignments\\cse6230-final\\src\\figures\\Number of angles.200-Image Size.32-nRMSE.jpg\n",
      "Saving figure to E:\\gatech\\courses\\cse-6230-high-performance-parallel-computing\\assignments\\cse6230-final\\src\\figures\\Number of angles.200-Image Size.32-Average Time.jpg\n",
      "Saving figure to E:\\gatech\\courses\\cse-6230-high-performance-parallel-computing\\assignments\\cse6230-final\\src\\figures\\Number of angles.200-Image Size.64-nRMSE.jpg\n",
      "Saving figure to E:\\gatech\\courses\\cse-6230-high-performance-parallel-computing\\assignments\\cse6230-final\\src\\figures\\Number of angles.200-Image Size.64-Average Time.jpg\n",
      "Saving figure to E:\\gatech\\courses\\cse-6230-high-performance-parallel-computing\\assignments\\cse6230-final\\src\\figures\\Number of angles.200-Image Size.128-nRMSE.jpg\n",
      "Saving figure to E:\\gatech\\courses\\cse-6230-high-performance-parallel-computing\\assignments\\cse6230-final\\src\\figures\\Number of angles.200-Image Size.128-Average Time.jpg\n",
      "Saving figure to E:\\gatech\\courses\\cse-6230-high-performance-parallel-computing\\assignments\\cse6230-final\\src\\figures\\Number of angles.200-Image Size.256-nRMSE.jpg\n",
      "Saving figure to E:\\gatech\\courses\\cse-6230-high-performance-parallel-computing\\assignments\\cse6230-final\\src\\figures\\Number of angles.200-Image Size.256-Average Time.jpg\n",
      "Saving figure to E:\\gatech\\courses\\cse-6230-high-performance-parallel-computing\\assignments\\cse6230-final\\src\\figures\\Number of angles.200-Image Size.512-nRMSE.jpg\n",
      "Saving figure to E:\\gatech\\courses\\cse-6230-high-performance-parallel-computing\\assignments\\cse6230-final\\src\\figures\\Number of angles.200-Image Size.512-Average Time.jpg\n",
      "Saving figure to E:\\gatech\\courses\\cse-6230-high-performance-parallel-computing\\assignments\\cse6230-final\\src\\figures\\Number of angles.200-Image Size.1024-nRMSE.jpg\n",
      "Saving figure to E:\\gatech\\courses\\cse-6230-high-performance-parallel-computing\\assignments\\cse6230-final\\src\\figures\\Number of angles.200-Image Size.1024-Average Time.jpg\n",
      "Saving figure to E:\\gatech\\courses\\cse-6230-high-performance-parallel-computing\\assignments\\cse6230-final\\src\\figures\\Number of angles.400-Image Size.32-nRMSE.jpg\n",
      "Saving figure to E:\\gatech\\courses\\cse-6230-high-performance-parallel-computing\\assignments\\cse6230-final\\src\\figures\\Number of angles.400-Image Size.32-Average Time.jpg\n",
      "Saving figure to E:\\gatech\\courses\\cse-6230-high-performance-parallel-computing\\assignments\\cse6230-final\\src\\figures\\Number of angles.400-Image Size.64-nRMSE.jpg\n",
      "Saving figure to E:\\gatech\\courses\\cse-6230-high-performance-parallel-computing\\assignments\\cse6230-final\\src\\figures\\Number of angles.400-Image Size.64-Average Time.jpg\n",
      "Saving figure to E:\\gatech\\courses\\cse-6230-high-performance-parallel-computing\\assignments\\cse6230-final\\src\\figures\\Number of angles.400-Image Size.128-nRMSE.jpg\n",
      "Saving figure to E:\\gatech\\courses\\cse-6230-high-performance-parallel-computing\\assignments\\cse6230-final\\src\\figures\\Number of angles.400-Image Size.128-Average Time.jpg\n",
      "Saving figure to E:\\gatech\\courses\\cse-6230-high-performance-parallel-computing\\assignments\\cse6230-final\\src\\figures\\Number of angles.400-Image Size.256-nRMSE.jpg\n",
      "Saving figure to E:\\gatech\\courses\\cse-6230-high-performance-parallel-computing\\assignments\\cse6230-final\\src\\figures\\Number of angles.400-Image Size.256-Average Time.jpg\n",
      "Saving figure to E:\\gatech\\courses\\cse-6230-high-performance-parallel-computing\\assignments\\cse6230-final\\src\\figures\\Number of angles.400-Image Size.512-nRMSE.jpg\n",
      "Saving figure to E:\\gatech\\courses\\cse-6230-high-performance-parallel-computing\\assignments\\cse6230-final\\src\\figures\\Number of angles.400-Image Size.512-Average Time.jpg\n",
      "Saving figure to E:\\gatech\\courses\\cse-6230-high-performance-parallel-computing\\assignments\\cse6230-final\\src\\figures\\Number of angles.400-Image Size.1024-nRMSE.jpg\n",
      "Saving figure to E:\\gatech\\courses\\cse-6230-high-performance-parallel-computing\\assignments\\cse6230-final\\src\\figures\\Number of angles.400-Image Size.1024-Average Time.jpg\n",
      "Saving figure to E:\\gatech\\courses\\cse-6230-high-performance-parallel-computing\\assignments\\cse6230-final\\src\\figures\\Number of angles.800-Image Size.32-nRMSE.jpg\n",
      "Saving figure to E:\\gatech\\courses\\cse-6230-high-performance-parallel-computing\\assignments\\cse6230-final\\src\\figures\\Number of angles.800-Image Size.32-Average Time.jpg\n",
      "Saving figure to E:\\gatech\\courses\\cse-6230-high-performance-parallel-computing\\assignments\\cse6230-final\\src\\figures\\Number of angles.800-Image Size.64-nRMSE.jpg\n",
      "Saving figure to E:\\gatech\\courses\\cse-6230-high-performance-parallel-computing\\assignments\\cse6230-final\\src\\figures\\Number of angles.800-Image Size.64-Average Time.jpg\n",
      "Saving figure to E:\\gatech\\courses\\cse-6230-high-performance-parallel-computing\\assignments\\cse6230-final\\src\\figures\\Number of angles.800-Image Size.128-nRMSE.jpg\n",
      "Saving figure to E:\\gatech\\courses\\cse-6230-high-performance-parallel-computing\\assignments\\cse6230-final\\src\\figures\\Number of angles.800-Image Size.128-Average Time.jpg\n",
      "Saving figure to E:\\gatech\\courses\\cse-6230-high-performance-parallel-computing\\assignments\\cse6230-final\\src\\figures\\Number of angles.800-Image Size.256-nRMSE.jpg\n",
      "Saving figure to E:\\gatech\\courses\\cse-6230-high-performance-parallel-computing\\assignments\\cse6230-final\\src\\figures\\Number of angles.800-Image Size.256-Average Time.jpg\n",
      "Saving figure to E:\\gatech\\courses\\cse-6230-high-performance-parallel-computing\\assignments\\cse6230-final\\src\\figures\\Number of angles.800-Image Size.512-nRMSE.jpg\n",
      "Saving figure to E:\\gatech\\courses\\cse-6230-high-performance-parallel-computing\\assignments\\cse6230-final\\src\\figures\\Number of angles.800-Image Size.512-Average Time.jpg\n",
      "Saving figure to E:\\gatech\\courses\\cse-6230-high-performance-parallel-computing\\assignments\\cse6230-final\\src\\figures\\Number of angles.800-Image Size.1024-nRMSE.jpg\n",
      "Saving figure to E:\\gatech\\courses\\cse-6230-high-performance-parallel-computing\\assignments\\cse6230-final\\src\\figures\\Number of angles.800-Image Size.1024-Average Time.jpg\n"
     ]
    },
    {
     "data": {
      "text/plain": "<Figure size 432x288 with 0 Axes>"
     },
     "metadata": {},
     "output_type": "display_data"
    }
   ],
   "source": [
    "dofs = ['Image Size', 'Number of angles', 'Number of GPUs']\n",
    "targets = ['nRMSE', 'Average Time']\n",
    "\n",
    "figure_format = '.jpg'\n",
    "figure_output_dir = Path.cwd() / 'figures'\n",
    "if not figure_output_dir.exists():\n",
    "    figure_output_dir.mkdir()\n",
    "\n",
    "for d in dofs:\n",
    "    print(f\"DOF: {d}\")\n",
    "    config = list(set(dofs).difference({d}))\n",
    "    groups = df.groupby(config)\n",
    "\n",
    "    # plot for each\n",
    "    for row_index, (key, item) in enumerate(groups):\n",
    "        # print(item)\n",
    "        # print((key, config))\n",
    "        for col_index, t in enumerate(targets):\n",
    "            # build figure name\n",
    "            config_parts = []\n",
    "            for config_name, config_value in zip(config, key):\n",
    "                config_parts.append(f'{config_name}.{config_value}')\n",
    "            figure_name = '-'.join(config_parts)\n",
    "            figure_name = f'{figure_name}-{t}'\n",
    "\n",
    "            # build figure title\n",
    "            config_parts = []\n",
    "            for config_name, config_value in zip(config, key):\n",
    "                config_parts.append(f'{config_name}={config_value}')\n",
    "            figure_title = ' '.join(config_parts)\n",
    "\n",
    "            # plot the figure\n",
    "            p = sns.lineplot(\n",
    "                data=item,\n",
    "                x=d,\n",
    "                y=t,\n",
    "                hue='Method',\n",
    "            )\n",
    "            p.set_title(figure_title)\n",
    "            save_file = figure_output_dir / f'{figure_name}{figure_format}'\n",
    "            print(f'Saving figure to {str(save_file)}')\n",
    "            p.figure.savefig(save_file)\n",
    "            p.figure.clf()"
   ],
   "metadata": {
    "collapsed": false,
    "pycharm": {
     "name": "#%%\n"
    }
   }
  },
  {
   "cell_type": "markdown",
   "source": [
    "Plot FDK and Iterative methods on separate figures.\n",
    "\n",
    "This is done because many attributes of FDK does not fall on the same scale as iterative methods (example: FDK has exponentially better runtime than iterative methods)"
   ],
   "metadata": {
    "collapsed": false,
    "pycharm": {
     "name": "#%% md\n"
    }
   }
  },
  {
   "cell_type": "code",
   "execution_count": 6,
   "outputs": [
    {
     "name": "stdout",
     "output_type": "stream",
     "text": [
      "DOF: Image Size\n",
      "Saving figure to E:\\gatech\\courses\\cse-6230-high-performance-parallel-computing\\assignments\\cse6230-final\\src\\figures\\comparison\\Number of angles.50-Number of GPUs.1-nRMSE.jpg\n",
      "Saving figure to E:\\gatech\\courses\\cse-6230-high-performance-parallel-computing\\assignments\\cse6230-final\\src\\figures\\comparison\\Number of angles.50-Number of GPUs.1-Average Time.jpg\n",
      "Saving figure to E:\\gatech\\courses\\cse-6230-high-performance-parallel-computing\\assignments\\cse6230-final\\src\\figures\\comparison\\Number of angles.50-Number of GPUs.2-nRMSE.jpg\n",
      "Saving figure to E:\\gatech\\courses\\cse-6230-high-performance-parallel-computing\\assignments\\cse6230-final\\src\\figures\\comparison\\Number of angles.50-Number of GPUs.2-Average Time.jpg\n",
      "Saving figure to E:\\gatech\\courses\\cse-6230-high-performance-parallel-computing\\assignments\\cse6230-final\\src\\figures\\comparison\\Number of angles.50-Number of GPUs.3-nRMSE.jpg\n",
      "Saving figure to E:\\gatech\\courses\\cse-6230-high-performance-parallel-computing\\assignments\\cse6230-final\\src\\figures\\comparison\\Number of angles.50-Number of GPUs.3-Average Time.jpg\n",
      "Saving figure to E:\\gatech\\courses\\cse-6230-high-performance-parallel-computing\\assignments\\cse6230-final\\src\\figures\\comparison\\Number of angles.50-Number of GPUs.4-nRMSE.jpg\n",
      "Saving figure to E:\\gatech\\courses\\cse-6230-high-performance-parallel-computing\\assignments\\cse6230-final\\src\\figures\\comparison\\Number of angles.50-Number of GPUs.4-Average Time.jpg\n",
      "Saving figure to E:\\gatech\\courses\\cse-6230-high-performance-parallel-computing\\assignments\\cse6230-final\\src\\figures\\comparison\\Number of angles.100-Number of GPUs.1-nRMSE.jpg\n",
      "Saving figure to E:\\gatech\\courses\\cse-6230-high-performance-parallel-computing\\assignments\\cse6230-final\\src\\figures\\comparison\\Number of angles.100-Number of GPUs.1-Average Time.jpg\n",
      "Saving figure to E:\\gatech\\courses\\cse-6230-high-performance-parallel-computing\\assignments\\cse6230-final\\src\\figures\\comparison\\Number of angles.100-Number of GPUs.2-nRMSE.jpg\n",
      "Saving figure to E:\\gatech\\courses\\cse-6230-high-performance-parallel-computing\\assignments\\cse6230-final\\src\\figures\\comparison\\Number of angles.100-Number of GPUs.2-Average Time.jpg\n",
      "Saving figure to E:\\gatech\\courses\\cse-6230-high-performance-parallel-computing\\assignments\\cse6230-final\\src\\figures\\comparison\\Number of angles.100-Number of GPUs.3-nRMSE.jpg\n",
      "Saving figure to E:\\gatech\\courses\\cse-6230-high-performance-parallel-computing\\assignments\\cse6230-final\\src\\figures\\comparison\\Number of angles.100-Number of GPUs.3-Average Time.jpg\n",
      "Saving figure to E:\\gatech\\courses\\cse-6230-high-performance-parallel-computing\\assignments\\cse6230-final\\src\\figures\\comparison\\Number of angles.100-Number of GPUs.4-nRMSE.jpg\n",
      "Saving figure to E:\\gatech\\courses\\cse-6230-high-performance-parallel-computing\\assignments\\cse6230-final\\src\\figures\\comparison\\Number of angles.100-Number of GPUs.4-Average Time.jpg\n",
      "Saving figure to E:\\gatech\\courses\\cse-6230-high-performance-parallel-computing\\assignments\\cse6230-final\\src\\figures\\comparison\\Number of angles.200-Number of GPUs.1-nRMSE.jpg\n",
      "Saving figure to E:\\gatech\\courses\\cse-6230-high-performance-parallel-computing\\assignments\\cse6230-final\\src\\figures\\comparison\\Number of angles.200-Number of GPUs.1-Average Time.jpg\n",
      "Saving figure to E:\\gatech\\courses\\cse-6230-high-performance-parallel-computing\\assignments\\cse6230-final\\src\\figures\\comparison\\Number of angles.200-Number of GPUs.2-nRMSE.jpg\n",
      "Saving figure to E:\\gatech\\courses\\cse-6230-high-performance-parallel-computing\\assignments\\cse6230-final\\src\\figures\\comparison\\Number of angles.200-Number of GPUs.2-Average Time.jpg\n"
     ]
    },
    {
     "name": "stderr",
     "output_type": "stream",
     "text": [
      "<ipython-input-6-73ea5507b4dd>:36: RuntimeWarning: More than 20 figures have been opened. Figures created through the pyplot interface (`matplotlib.pyplot.figure`) are retained until explicitly closed and may consume too much memory. (To control this warning, see the rcParam `figure.max_open_warning`).\n",
      "  figure, axes = plt.subplots(nrows=1, ncols=len(methods))\n"
     ]
    },
    {
     "name": "stdout",
     "output_type": "stream",
     "text": [
      "Saving figure to E:\\gatech\\courses\\cse-6230-high-performance-parallel-computing\\assignments\\cse6230-final\\src\\figures\\comparison\\Number of angles.200-Number of GPUs.3-nRMSE.jpg\n",
      "Saving figure to E:\\gatech\\courses\\cse-6230-high-performance-parallel-computing\\assignments\\cse6230-final\\src\\figures\\comparison\\Number of angles.200-Number of GPUs.3-Average Time.jpg\n",
      "Saving figure to E:\\gatech\\courses\\cse-6230-high-performance-parallel-computing\\assignments\\cse6230-final\\src\\figures\\comparison\\Number of angles.200-Number of GPUs.4-nRMSE.jpg\n",
      "Saving figure to E:\\gatech\\courses\\cse-6230-high-performance-parallel-computing\\assignments\\cse6230-final\\src\\figures\\comparison\\Number of angles.200-Number of GPUs.4-Average Time.jpg\n",
      "Saving figure to E:\\gatech\\courses\\cse-6230-high-performance-parallel-computing\\assignments\\cse6230-final\\src\\figures\\comparison\\Number of angles.400-Number of GPUs.1-nRMSE.jpg\n",
      "Saving figure to E:\\gatech\\courses\\cse-6230-high-performance-parallel-computing\\assignments\\cse6230-final\\src\\figures\\comparison\\Number of angles.400-Number of GPUs.1-Average Time.jpg\n",
      "Saving figure to E:\\gatech\\courses\\cse-6230-high-performance-parallel-computing\\assignments\\cse6230-final\\src\\figures\\comparison\\Number of angles.400-Number of GPUs.2-nRMSE.jpg\n",
      "Saving figure to E:\\gatech\\courses\\cse-6230-high-performance-parallel-computing\\assignments\\cse6230-final\\src\\figures\\comparison\\Number of angles.400-Number of GPUs.2-Average Time.jpg\n",
      "Saving figure to E:\\gatech\\courses\\cse-6230-high-performance-parallel-computing\\assignments\\cse6230-final\\src\\figures\\comparison\\Number of angles.400-Number of GPUs.3-nRMSE.jpg\n",
      "Saving figure to E:\\gatech\\courses\\cse-6230-high-performance-parallel-computing\\assignments\\cse6230-final\\src\\figures\\comparison\\Number of angles.400-Number of GPUs.3-Average Time.jpg\n",
      "Saving figure to E:\\gatech\\courses\\cse-6230-high-performance-parallel-computing\\assignments\\cse6230-final\\src\\figures\\comparison\\Number of angles.400-Number of GPUs.4-nRMSE.jpg\n",
      "Saving figure to E:\\gatech\\courses\\cse-6230-high-performance-parallel-computing\\assignments\\cse6230-final\\src\\figures\\comparison\\Number of angles.400-Number of GPUs.4-Average Time.jpg\n",
      "Saving figure to E:\\gatech\\courses\\cse-6230-high-performance-parallel-computing\\assignments\\cse6230-final\\src\\figures\\comparison\\Number of angles.800-Number of GPUs.1-nRMSE.jpg\n",
      "Saving figure to E:\\gatech\\courses\\cse-6230-high-performance-parallel-computing\\assignments\\cse6230-final\\src\\figures\\comparison\\Number of angles.800-Number of GPUs.1-Average Time.jpg\n",
      "Saving figure to E:\\gatech\\courses\\cse-6230-high-performance-parallel-computing\\assignments\\cse6230-final\\src\\figures\\comparison\\Number of angles.800-Number of GPUs.2-nRMSE.jpg\n",
      "Saving figure to E:\\gatech\\courses\\cse-6230-high-performance-parallel-computing\\assignments\\cse6230-final\\src\\figures\\comparison\\Number of angles.800-Number of GPUs.2-Average Time.jpg\n",
      "Saving figure to E:\\gatech\\courses\\cse-6230-high-performance-parallel-computing\\assignments\\cse6230-final\\src\\figures\\comparison\\Number of angles.800-Number of GPUs.3-nRMSE.jpg\n",
      "Saving figure to E:\\gatech\\courses\\cse-6230-high-performance-parallel-computing\\assignments\\cse6230-final\\src\\figures\\comparison\\Number of angles.800-Number of GPUs.3-Average Time.jpg\n",
      "Saving figure to E:\\gatech\\courses\\cse-6230-high-performance-parallel-computing\\assignments\\cse6230-final\\src\\figures\\comparison\\Number of angles.800-Number of GPUs.4-nRMSE.jpg\n",
      "Saving figure to E:\\gatech\\courses\\cse-6230-high-performance-parallel-computing\\assignments\\cse6230-final\\src\\figures\\comparison\\Number of angles.800-Number of GPUs.4-Average Time.jpg\n",
      "DOF: Number of angles\n",
      "Saving figure to E:\\gatech\\courses\\cse-6230-high-performance-parallel-computing\\assignments\\cse6230-final\\src\\figures\\comparison\\Number of GPUs.1-Image Size.32-nRMSE.jpg\n",
      "Saving figure to E:\\gatech\\courses\\cse-6230-high-performance-parallel-computing\\assignments\\cse6230-final\\src\\figures\\comparison\\Number of GPUs.1-Image Size.32-Average Time.jpg\n",
      "Saving figure to E:\\gatech\\courses\\cse-6230-high-performance-parallel-computing\\assignments\\cse6230-final\\src\\figures\\comparison\\Number of GPUs.1-Image Size.64-nRMSE.jpg\n",
      "Saving figure to E:\\gatech\\courses\\cse-6230-high-performance-parallel-computing\\assignments\\cse6230-final\\src\\figures\\comparison\\Number of GPUs.1-Image Size.64-Average Time.jpg\n",
      "Saving figure to E:\\gatech\\courses\\cse-6230-high-performance-parallel-computing\\assignments\\cse6230-final\\src\\figures\\comparison\\Number of GPUs.1-Image Size.128-nRMSE.jpg\n",
      "Saving figure to E:\\gatech\\courses\\cse-6230-high-performance-parallel-computing\\assignments\\cse6230-final\\src\\figures\\comparison\\Number of GPUs.1-Image Size.128-Average Time.jpg\n",
      "Saving figure to E:\\gatech\\courses\\cse-6230-high-performance-parallel-computing\\assignments\\cse6230-final\\src\\figures\\comparison\\Number of GPUs.1-Image Size.256-nRMSE.jpg\n",
      "Saving figure to E:\\gatech\\courses\\cse-6230-high-performance-parallel-computing\\assignments\\cse6230-final\\src\\figures\\comparison\\Number of GPUs.1-Image Size.256-Average Time.jpg\n",
      "Saving figure to E:\\gatech\\courses\\cse-6230-high-performance-parallel-computing\\assignments\\cse6230-final\\src\\figures\\comparison\\Number of GPUs.1-Image Size.512-nRMSE.jpg\n",
      "Saving figure to E:\\gatech\\courses\\cse-6230-high-performance-parallel-computing\\assignments\\cse6230-final\\src\\figures\\comparison\\Number of GPUs.1-Image Size.512-Average Time.jpg\n",
      "Saving figure to E:\\gatech\\courses\\cse-6230-high-performance-parallel-computing\\assignments\\cse6230-final\\src\\figures\\comparison\\Number of GPUs.1-Image Size.1024-nRMSE.jpg\n",
      "Saving figure to E:\\gatech\\courses\\cse-6230-high-performance-parallel-computing\\assignments\\cse6230-final\\src\\figures\\comparison\\Number of GPUs.1-Image Size.1024-Average Time.jpg\n",
      "Saving figure to E:\\gatech\\courses\\cse-6230-high-performance-parallel-computing\\assignments\\cse6230-final\\src\\figures\\comparison\\Number of GPUs.2-Image Size.32-nRMSE.jpg\n",
      "Saving figure to E:\\gatech\\courses\\cse-6230-high-performance-parallel-computing\\assignments\\cse6230-final\\src\\figures\\comparison\\Number of GPUs.2-Image Size.32-Average Time.jpg\n",
      "Saving figure to E:\\gatech\\courses\\cse-6230-high-performance-parallel-computing\\assignments\\cse6230-final\\src\\figures\\comparison\\Number of GPUs.2-Image Size.64-nRMSE.jpg\n",
      "Saving figure to E:\\gatech\\courses\\cse-6230-high-performance-parallel-computing\\assignments\\cse6230-final\\src\\figures\\comparison\\Number of GPUs.2-Image Size.64-Average Time.jpg\n",
      "Saving figure to E:\\gatech\\courses\\cse-6230-high-performance-parallel-computing\\assignments\\cse6230-final\\src\\figures\\comparison\\Number of GPUs.2-Image Size.128-nRMSE.jpg\n",
      "Saving figure to E:\\gatech\\courses\\cse-6230-high-performance-parallel-computing\\assignments\\cse6230-final\\src\\figures\\comparison\\Number of GPUs.2-Image Size.128-Average Time.jpg\n",
      "Saving figure to E:\\gatech\\courses\\cse-6230-high-performance-parallel-computing\\assignments\\cse6230-final\\src\\figures\\comparison\\Number of GPUs.2-Image Size.256-nRMSE.jpg\n",
      "Saving figure to E:\\gatech\\courses\\cse-6230-high-performance-parallel-computing\\assignments\\cse6230-final\\src\\figures\\comparison\\Number of GPUs.2-Image Size.256-Average Time.jpg\n",
      "Saving figure to E:\\gatech\\courses\\cse-6230-high-performance-parallel-computing\\assignments\\cse6230-final\\src\\figures\\comparison\\Number of GPUs.2-Image Size.512-nRMSE.jpg\n",
      "Saving figure to E:\\gatech\\courses\\cse-6230-high-performance-parallel-computing\\assignments\\cse6230-final\\src\\figures\\comparison\\Number of GPUs.2-Image Size.512-Average Time.jpg\n",
      "Saving figure to E:\\gatech\\courses\\cse-6230-high-performance-parallel-computing\\assignments\\cse6230-final\\src\\figures\\comparison\\Number of GPUs.2-Image Size.1024-nRMSE.jpg\n",
      "Saving figure to E:\\gatech\\courses\\cse-6230-high-performance-parallel-computing\\assignments\\cse6230-final\\src\\figures\\comparison\\Number of GPUs.2-Image Size.1024-Average Time.jpg\n",
      "Saving figure to E:\\gatech\\courses\\cse-6230-high-performance-parallel-computing\\assignments\\cse6230-final\\src\\figures\\comparison\\Number of GPUs.3-Image Size.32-nRMSE.jpg\n",
      "Saving figure to E:\\gatech\\courses\\cse-6230-high-performance-parallel-computing\\assignments\\cse6230-final\\src\\figures\\comparison\\Number of GPUs.3-Image Size.32-Average Time.jpg\n",
      "Saving figure to E:\\gatech\\courses\\cse-6230-high-performance-parallel-computing\\assignments\\cse6230-final\\src\\figures\\comparison\\Number of GPUs.3-Image Size.64-nRMSE.jpg\n",
      "Saving figure to E:\\gatech\\courses\\cse-6230-high-performance-parallel-computing\\assignments\\cse6230-final\\src\\figures\\comparison\\Number of GPUs.3-Image Size.64-Average Time.jpg\n",
      "Saving figure to E:\\gatech\\courses\\cse-6230-high-performance-parallel-computing\\assignments\\cse6230-final\\src\\figures\\comparison\\Number of GPUs.3-Image Size.128-nRMSE.jpg\n",
      "Saving figure to E:\\gatech\\courses\\cse-6230-high-performance-parallel-computing\\assignments\\cse6230-final\\src\\figures\\comparison\\Number of GPUs.3-Image Size.128-Average Time.jpg\n",
      "Saving figure to E:\\gatech\\courses\\cse-6230-high-performance-parallel-computing\\assignments\\cse6230-final\\src\\figures\\comparison\\Number of GPUs.3-Image Size.256-nRMSE.jpg\n",
      "Saving figure to E:\\gatech\\courses\\cse-6230-high-performance-parallel-computing\\assignments\\cse6230-final\\src\\figures\\comparison\\Number of GPUs.3-Image Size.256-Average Time.jpg\n",
      "Saving figure to E:\\gatech\\courses\\cse-6230-high-performance-parallel-computing\\assignments\\cse6230-final\\src\\figures\\comparison\\Number of GPUs.3-Image Size.512-nRMSE.jpg\n",
      "Saving figure to E:\\gatech\\courses\\cse-6230-high-performance-parallel-computing\\assignments\\cse6230-final\\src\\figures\\comparison\\Number of GPUs.3-Image Size.512-Average Time.jpg\n",
      "Saving figure to E:\\gatech\\courses\\cse-6230-high-performance-parallel-computing\\assignments\\cse6230-final\\src\\figures\\comparison\\Number of GPUs.3-Image Size.1024-nRMSE.jpg\n",
      "Saving figure to E:\\gatech\\courses\\cse-6230-high-performance-parallel-computing\\assignments\\cse6230-final\\src\\figures\\comparison\\Number of GPUs.3-Image Size.1024-Average Time.jpg\n",
      "Saving figure to E:\\gatech\\courses\\cse-6230-high-performance-parallel-computing\\assignments\\cse6230-final\\src\\figures\\comparison\\Number of GPUs.4-Image Size.32-nRMSE.jpg\n",
      "Saving figure to E:\\gatech\\courses\\cse-6230-high-performance-parallel-computing\\assignments\\cse6230-final\\src\\figures\\comparison\\Number of GPUs.4-Image Size.32-Average Time.jpg\n",
      "Saving figure to E:\\gatech\\courses\\cse-6230-high-performance-parallel-computing\\assignments\\cse6230-final\\src\\figures\\comparison\\Number of GPUs.4-Image Size.64-nRMSE.jpg\n",
      "Saving figure to E:\\gatech\\courses\\cse-6230-high-performance-parallel-computing\\assignments\\cse6230-final\\src\\figures\\comparison\\Number of GPUs.4-Image Size.64-Average Time.jpg\n",
      "Saving figure to E:\\gatech\\courses\\cse-6230-high-performance-parallel-computing\\assignments\\cse6230-final\\src\\figures\\comparison\\Number of GPUs.4-Image Size.128-nRMSE.jpg\n",
      "Saving figure to E:\\gatech\\courses\\cse-6230-high-performance-parallel-computing\\assignments\\cse6230-final\\src\\figures\\comparison\\Number of GPUs.4-Image Size.128-Average Time.jpg\n",
      "Saving figure to E:\\gatech\\courses\\cse-6230-high-performance-parallel-computing\\assignments\\cse6230-final\\src\\figures\\comparison\\Number of GPUs.4-Image Size.256-nRMSE.jpg\n",
      "Saving figure to E:\\gatech\\courses\\cse-6230-high-performance-parallel-computing\\assignments\\cse6230-final\\src\\figures\\comparison\\Number of GPUs.4-Image Size.256-Average Time.jpg\n",
      "Saving figure to E:\\gatech\\courses\\cse-6230-high-performance-parallel-computing\\assignments\\cse6230-final\\src\\figures\\comparison\\Number of GPUs.4-Image Size.512-nRMSE.jpg\n",
      "Saving figure to E:\\gatech\\courses\\cse-6230-high-performance-parallel-computing\\assignments\\cse6230-final\\src\\figures\\comparison\\Number of GPUs.4-Image Size.512-Average Time.jpg\n",
      "Saving figure to E:\\gatech\\courses\\cse-6230-high-performance-parallel-computing\\assignments\\cse6230-final\\src\\figures\\comparison\\Number of GPUs.4-Image Size.1024-nRMSE.jpg\n",
      "Saving figure to E:\\gatech\\courses\\cse-6230-high-performance-parallel-computing\\assignments\\cse6230-final\\src\\figures\\comparison\\Number of GPUs.4-Image Size.1024-Average Time.jpg\n",
      "DOF: Number of GPUs\n",
      "Saving figure to E:\\gatech\\courses\\cse-6230-high-performance-parallel-computing\\assignments\\cse6230-final\\src\\figures\\comparison\\Number of angles.50-Image Size.32-nRMSE.jpg\n",
      "Saving figure to E:\\gatech\\courses\\cse-6230-high-performance-parallel-computing\\assignments\\cse6230-final\\src\\figures\\comparison\\Number of angles.50-Image Size.32-Average Time.jpg\n",
      "Saving figure to E:\\gatech\\courses\\cse-6230-high-performance-parallel-computing\\assignments\\cse6230-final\\src\\figures\\comparison\\Number of angles.50-Image Size.64-nRMSE.jpg\n",
      "Saving figure to E:\\gatech\\courses\\cse-6230-high-performance-parallel-computing\\assignments\\cse6230-final\\src\\figures\\comparison\\Number of angles.50-Image Size.64-Average Time.jpg\n",
      "Saving figure to E:\\gatech\\courses\\cse-6230-high-performance-parallel-computing\\assignments\\cse6230-final\\src\\figures\\comparison\\Number of angles.50-Image Size.128-nRMSE.jpg\n",
      "Saving figure to E:\\gatech\\courses\\cse-6230-high-performance-parallel-computing\\assignments\\cse6230-final\\src\\figures\\comparison\\Number of angles.50-Image Size.128-Average Time.jpg\n",
      "Saving figure to E:\\gatech\\courses\\cse-6230-high-performance-parallel-computing\\assignments\\cse6230-final\\src\\figures\\comparison\\Number of angles.50-Image Size.256-nRMSE.jpg\n",
      "Saving figure to E:\\gatech\\courses\\cse-6230-high-performance-parallel-computing\\assignments\\cse6230-final\\src\\figures\\comparison\\Number of angles.50-Image Size.256-Average Time.jpg\n",
      "Saving figure to E:\\gatech\\courses\\cse-6230-high-performance-parallel-computing\\assignments\\cse6230-final\\src\\figures\\comparison\\Number of angles.50-Image Size.512-nRMSE.jpg\n",
      "Saving figure to E:\\gatech\\courses\\cse-6230-high-performance-parallel-computing\\assignments\\cse6230-final\\src\\figures\\comparison\\Number of angles.50-Image Size.512-Average Time.jpg\n",
      "Saving figure to E:\\gatech\\courses\\cse-6230-high-performance-parallel-computing\\assignments\\cse6230-final\\src\\figures\\comparison\\Number of angles.50-Image Size.1024-nRMSE.jpg\n",
      "Saving figure to E:\\gatech\\courses\\cse-6230-high-performance-parallel-computing\\assignments\\cse6230-final\\src\\figures\\comparison\\Number of angles.50-Image Size.1024-Average Time.jpg\n",
      "Saving figure to E:\\gatech\\courses\\cse-6230-high-performance-parallel-computing\\assignments\\cse6230-final\\src\\figures\\comparison\\Number of angles.100-Image Size.32-nRMSE.jpg\n",
      "Saving figure to E:\\gatech\\courses\\cse-6230-high-performance-parallel-computing\\assignments\\cse6230-final\\src\\figures\\comparison\\Number of angles.100-Image Size.32-Average Time.jpg\n",
      "Saving figure to E:\\gatech\\courses\\cse-6230-high-performance-parallel-computing\\assignments\\cse6230-final\\src\\figures\\comparison\\Number of angles.100-Image Size.64-nRMSE.jpg\n",
      "Saving figure to E:\\gatech\\courses\\cse-6230-high-performance-parallel-computing\\assignments\\cse6230-final\\src\\figures\\comparison\\Number of angles.100-Image Size.64-Average Time.jpg\n",
      "Saving figure to E:\\gatech\\courses\\cse-6230-high-performance-parallel-computing\\assignments\\cse6230-final\\src\\figures\\comparison\\Number of angles.100-Image Size.128-nRMSE.jpg\n",
      "Saving figure to E:\\gatech\\courses\\cse-6230-high-performance-parallel-computing\\assignments\\cse6230-final\\src\\figures\\comparison\\Number of angles.100-Image Size.128-Average Time.jpg\n",
      "Saving figure to E:\\gatech\\courses\\cse-6230-high-performance-parallel-computing\\assignments\\cse6230-final\\src\\figures\\comparison\\Number of angles.100-Image Size.256-nRMSE.jpg\n",
      "Saving figure to E:\\gatech\\courses\\cse-6230-high-performance-parallel-computing\\assignments\\cse6230-final\\src\\figures\\comparison\\Number of angles.100-Image Size.256-Average Time.jpg\n",
      "Saving figure to E:\\gatech\\courses\\cse-6230-high-performance-parallel-computing\\assignments\\cse6230-final\\src\\figures\\comparison\\Number of angles.100-Image Size.512-nRMSE.jpg\n",
      "Saving figure to E:\\gatech\\courses\\cse-6230-high-performance-parallel-computing\\assignments\\cse6230-final\\src\\figures\\comparison\\Number of angles.100-Image Size.512-Average Time.jpg\n",
      "Saving figure to E:\\gatech\\courses\\cse-6230-high-performance-parallel-computing\\assignments\\cse6230-final\\src\\figures\\comparison\\Number of angles.100-Image Size.1024-nRMSE.jpg\n",
      "Saving figure to E:\\gatech\\courses\\cse-6230-high-performance-parallel-computing\\assignments\\cse6230-final\\src\\figures\\comparison\\Number of angles.100-Image Size.1024-Average Time.jpg\n",
      "Saving figure to E:\\gatech\\courses\\cse-6230-high-performance-parallel-computing\\assignments\\cse6230-final\\src\\figures\\comparison\\Number of angles.200-Image Size.32-nRMSE.jpg\n",
      "Saving figure to E:\\gatech\\courses\\cse-6230-high-performance-parallel-computing\\assignments\\cse6230-final\\src\\figures\\comparison\\Number of angles.200-Image Size.32-Average Time.jpg\n",
      "Saving figure to E:\\gatech\\courses\\cse-6230-high-performance-parallel-computing\\assignments\\cse6230-final\\src\\figures\\comparison\\Number of angles.200-Image Size.64-nRMSE.jpg\n",
      "Saving figure to E:\\gatech\\courses\\cse-6230-high-performance-parallel-computing\\assignments\\cse6230-final\\src\\figures\\comparison\\Number of angles.200-Image Size.64-Average Time.jpg\n",
      "Saving figure to E:\\gatech\\courses\\cse-6230-high-performance-parallel-computing\\assignments\\cse6230-final\\src\\figures\\comparison\\Number of angles.200-Image Size.128-nRMSE.jpg\n",
      "Saving figure to E:\\gatech\\courses\\cse-6230-high-performance-parallel-computing\\assignments\\cse6230-final\\src\\figures\\comparison\\Number of angles.200-Image Size.128-Average Time.jpg\n",
      "Saving figure to E:\\gatech\\courses\\cse-6230-high-performance-parallel-computing\\assignments\\cse6230-final\\src\\figures\\comparison\\Number of angles.200-Image Size.256-nRMSE.jpg\n",
      "Saving figure to E:\\gatech\\courses\\cse-6230-high-performance-parallel-computing\\assignments\\cse6230-final\\src\\figures\\comparison\\Number of angles.200-Image Size.256-Average Time.jpg\n",
      "Saving figure to E:\\gatech\\courses\\cse-6230-high-performance-parallel-computing\\assignments\\cse6230-final\\src\\figures\\comparison\\Number of angles.200-Image Size.512-nRMSE.jpg\n",
      "Saving figure to E:\\gatech\\courses\\cse-6230-high-performance-parallel-computing\\assignments\\cse6230-final\\src\\figures\\comparison\\Number of angles.200-Image Size.512-Average Time.jpg\n",
      "Saving figure to E:\\gatech\\courses\\cse-6230-high-performance-parallel-computing\\assignments\\cse6230-final\\src\\figures\\comparison\\Number of angles.200-Image Size.1024-nRMSE.jpg\n",
      "Saving figure to E:\\gatech\\courses\\cse-6230-high-performance-parallel-computing\\assignments\\cse6230-final\\src\\figures\\comparison\\Number of angles.200-Image Size.1024-Average Time.jpg\n",
      "Saving figure to E:\\gatech\\courses\\cse-6230-high-performance-parallel-computing\\assignments\\cse6230-final\\src\\figures\\comparison\\Number of angles.400-Image Size.32-nRMSE.jpg\n",
      "Saving figure to E:\\gatech\\courses\\cse-6230-high-performance-parallel-computing\\assignments\\cse6230-final\\src\\figures\\comparison\\Number of angles.400-Image Size.32-Average Time.jpg\n",
      "Saving figure to E:\\gatech\\courses\\cse-6230-high-performance-parallel-computing\\assignments\\cse6230-final\\src\\figures\\comparison\\Number of angles.400-Image Size.64-nRMSE.jpg\n",
      "Saving figure to E:\\gatech\\courses\\cse-6230-high-performance-parallel-computing\\assignments\\cse6230-final\\src\\figures\\comparison\\Number of angles.400-Image Size.64-Average Time.jpg\n",
      "Saving figure to E:\\gatech\\courses\\cse-6230-high-performance-parallel-computing\\assignments\\cse6230-final\\src\\figures\\comparison\\Number of angles.400-Image Size.128-nRMSE.jpg\n",
      "Saving figure to E:\\gatech\\courses\\cse-6230-high-performance-parallel-computing\\assignments\\cse6230-final\\src\\figures\\comparison\\Number of angles.400-Image Size.128-Average Time.jpg\n",
      "Saving figure to E:\\gatech\\courses\\cse-6230-high-performance-parallel-computing\\assignments\\cse6230-final\\src\\figures\\comparison\\Number of angles.400-Image Size.256-nRMSE.jpg\n",
      "Saving figure to E:\\gatech\\courses\\cse-6230-high-performance-parallel-computing\\assignments\\cse6230-final\\src\\figures\\comparison\\Number of angles.400-Image Size.256-Average Time.jpg\n",
      "Saving figure to E:\\gatech\\courses\\cse-6230-high-performance-parallel-computing\\assignments\\cse6230-final\\src\\figures\\comparison\\Number of angles.400-Image Size.512-nRMSE.jpg\n",
      "Saving figure to E:\\gatech\\courses\\cse-6230-high-performance-parallel-computing\\assignments\\cse6230-final\\src\\figures\\comparison\\Number of angles.400-Image Size.512-Average Time.jpg\n",
      "Saving figure to E:\\gatech\\courses\\cse-6230-high-performance-parallel-computing\\assignments\\cse6230-final\\src\\figures\\comparison\\Number of angles.400-Image Size.1024-nRMSE.jpg\n",
      "Saving figure to E:\\gatech\\courses\\cse-6230-high-performance-parallel-computing\\assignments\\cse6230-final\\src\\figures\\comparison\\Number of angles.400-Image Size.1024-Average Time.jpg\n",
      "Saving figure to E:\\gatech\\courses\\cse-6230-high-performance-parallel-computing\\assignments\\cse6230-final\\src\\figures\\comparison\\Number of angles.800-Image Size.32-nRMSE.jpg\n",
      "Saving figure to E:\\gatech\\courses\\cse-6230-high-performance-parallel-computing\\assignments\\cse6230-final\\src\\figures\\comparison\\Number of angles.800-Image Size.32-Average Time.jpg\n",
      "Saving figure to E:\\gatech\\courses\\cse-6230-high-performance-parallel-computing\\assignments\\cse6230-final\\src\\figures\\comparison\\Number of angles.800-Image Size.64-nRMSE.jpg\n",
      "Saving figure to E:\\gatech\\courses\\cse-6230-high-performance-parallel-computing\\assignments\\cse6230-final\\src\\figures\\comparison\\Number of angles.800-Image Size.64-Average Time.jpg\n",
      "Saving figure to E:\\gatech\\courses\\cse-6230-high-performance-parallel-computing\\assignments\\cse6230-final\\src\\figures\\comparison\\Number of angles.800-Image Size.128-nRMSE.jpg\n",
      "Saving figure to E:\\gatech\\courses\\cse-6230-high-performance-parallel-computing\\assignments\\cse6230-final\\src\\figures\\comparison\\Number of angles.800-Image Size.128-Average Time.jpg\n",
      "Saving figure to E:\\gatech\\courses\\cse-6230-high-performance-parallel-computing\\assignments\\cse6230-final\\src\\figures\\comparison\\Number of angles.800-Image Size.256-nRMSE.jpg\n",
      "Saving figure to E:\\gatech\\courses\\cse-6230-high-performance-parallel-computing\\assignments\\cse6230-final\\src\\figures\\comparison\\Number of angles.800-Image Size.256-Average Time.jpg\n",
      "Saving figure to E:\\gatech\\courses\\cse-6230-high-performance-parallel-computing\\assignments\\cse6230-final\\src\\figures\\comparison\\Number of angles.800-Image Size.512-nRMSE.jpg\n",
      "Saving figure to E:\\gatech\\courses\\cse-6230-high-performance-parallel-computing\\assignments\\cse6230-final\\src\\figures\\comparison\\Number of angles.800-Image Size.512-Average Time.jpg\n",
      "Saving figure to E:\\gatech\\courses\\cse-6230-high-performance-parallel-computing\\assignments\\cse6230-final\\src\\figures\\comparison\\Number of angles.800-Image Size.1024-nRMSE.jpg\n",
      "Saving figure to E:\\gatech\\courses\\cse-6230-high-performance-parallel-computing\\assignments\\cse6230-final\\src\\figures\\comparison\\Number of angles.800-Image Size.1024-Average Time.jpg\n"
     ]
    },
    {
     "data": {
      "text/plain": "<Figure size 432x288 with 0 Axes>"
     },
     "metadata": {},
     "output_type": "display_data"
    },
    {
     "data": {
      "text/plain": "<Figure size 432x288 with 0 Axes>"
     },
     "metadata": {},
     "output_type": "display_data"
    },
    {
     "data": {
      "text/plain": "<Figure size 432x288 with 0 Axes>"
     },
     "metadata": {},
     "output_type": "display_data"
    },
    {
     "data": {
      "text/plain": "<Figure size 432x288 with 0 Axes>"
     },
     "metadata": {},
     "output_type": "display_data"
    },
    {
     "data": {
      "text/plain": "<Figure size 432x288 with 0 Axes>"
     },
     "metadata": {},
     "output_type": "display_data"
    },
    {
     "data": {
      "text/plain": "<Figure size 432x288 with 0 Axes>"
     },
     "metadata": {},
     "output_type": "display_data"
    },
    {
     "data": {
      "text/plain": "<Figure size 432x288 with 0 Axes>"
     },
     "metadata": {},
     "output_type": "display_data"
    },
    {
     "data": {
      "text/plain": "<Figure size 432x288 with 0 Axes>"
     },
     "metadata": {},
     "output_type": "display_data"
    },
    {
     "data": {
      "text/plain": "<Figure size 432x288 with 0 Axes>"
     },
     "metadata": {},
     "output_type": "display_data"
    },
    {
     "data": {
      "text/plain": "<Figure size 432x288 with 0 Axes>"
     },
     "metadata": {},
     "output_type": "display_data"
    },
    {
     "data": {
      "text/plain": "<Figure size 432x288 with 0 Axes>"
     },
     "metadata": {},
     "output_type": "display_data"
    },
    {
     "data": {
      "text/plain": "<Figure size 432x288 with 0 Axes>"
     },
     "metadata": {},
     "output_type": "display_data"
    },
    {
     "data": {
      "text/plain": "<Figure size 432x288 with 0 Axes>"
     },
     "metadata": {},
     "output_type": "display_data"
    },
    {
     "data": {
      "text/plain": "<Figure size 432x288 with 0 Axes>"
     },
     "metadata": {},
     "output_type": "display_data"
    },
    {
     "data": {
      "text/plain": "<Figure size 432x288 with 0 Axes>"
     },
     "metadata": {},
     "output_type": "display_data"
    },
    {
     "data": {
      "text/plain": "<Figure size 432x288 with 0 Axes>"
     },
     "metadata": {},
     "output_type": "display_data"
    },
    {
     "data": {
      "text/plain": "<Figure size 432x288 with 0 Axes>"
     },
     "metadata": {},
     "output_type": "display_data"
    },
    {
     "data": {
      "text/plain": "<Figure size 432x288 with 0 Axes>"
     },
     "metadata": {},
     "output_type": "display_data"
    },
    {
     "data": {
      "text/plain": "<Figure size 432x288 with 0 Axes>"
     },
     "metadata": {},
     "output_type": "display_data"
    },
    {
     "data": {
      "text/plain": "<Figure size 432x288 with 0 Axes>"
     },
     "metadata": {},
     "output_type": "display_data"
    },
    {
     "data": {
      "text/plain": "<Figure size 432x288 with 0 Axes>"
     },
     "metadata": {},
     "output_type": "display_data"
    },
    {
     "data": {
      "text/plain": "<Figure size 432x288 with 0 Axes>"
     },
     "metadata": {},
     "output_type": "display_data"
    },
    {
     "data": {
      "text/plain": "<Figure size 432x288 with 0 Axes>"
     },
     "metadata": {},
     "output_type": "display_data"
    },
    {
     "data": {
      "text/plain": "<Figure size 432x288 with 0 Axes>"
     },
     "metadata": {},
     "output_type": "display_data"
    },
    {
     "data": {
      "text/plain": "<Figure size 432x288 with 0 Axes>"
     },
     "metadata": {},
     "output_type": "display_data"
    },
    {
     "data": {
      "text/plain": "<Figure size 432x288 with 0 Axes>"
     },
     "metadata": {},
     "output_type": "display_data"
    },
    {
     "data": {
      "text/plain": "<Figure size 432x288 with 0 Axes>"
     },
     "metadata": {},
     "output_type": "display_data"
    },
    {
     "data": {
      "text/plain": "<Figure size 432x288 with 0 Axes>"
     },
     "metadata": {},
     "output_type": "display_data"
    },
    {
     "data": {
      "text/plain": "<Figure size 432x288 with 0 Axes>"
     },
     "metadata": {},
     "output_type": "display_data"
    },
    {
     "data": {
      "text/plain": "<Figure size 432x288 with 0 Axes>"
     },
     "metadata": {},
     "output_type": "display_data"
    },
    {
     "data": {
      "text/plain": "<Figure size 432x288 with 0 Axes>"
     },
     "metadata": {},
     "output_type": "display_data"
    },
    {
     "data": {
      "text/plain": "<Figure size 432x288 with 0 Axes>"
     },
     "metadata": {},
     "output_type": "display_data"
    },
    {
     "data": {
      "text/plain": "<Figure size 432x288 with 0 Axes>"
     },
     "metadata": {},
     "output_type": "display_data"
    },
    {
     "data": {
      "text/plain": "<Figure size 432x288 with 0 Axes>"
     },
     "metadata": {},
     "output_type": "display_data"
    },
    {
     "data": {
      "text/plain": "<Figure size 432x288 with 0 Axes>"
     },
     "metadata": {},
     "output_type": "display_data"
    },
    {
     "data": {
      "text/plain": "<Figure size 432x288 with 0 Axes>"
     },
     "metadata": {},
     "output_type": "display_data"
    },
    {
     "data": {
      "text/plain": "<Figure size 432x288 with 0 Axes>"
     },
     "metadata": {},
     "output_type": "display_data"
    },
    {
     "data": {
      "text/plain": "<Figure size 432x288 with 0 Axes>"
     },
     "metadata": {},
     "output_type": "display_data"
    },
    {
     "data": {
      "text/plain": "<Figure size 432x288 with 0 Axes>"
     },
     "metadata": {},
     "output_type": "display_data"
    },
    {
     "data": {
      "text/plain": "<Figure size 432x288 with 0 Axes>"
     },
     "metadata": {},
     "output_type": "display_data"
    },
    {
     "data": {
      "text/plain": "<Figure size 432x288 with 0 Axes>"
     },
     "metadata": {},
     "output_type": "display_data"
    },
    {
     "data": {
      "text/plain": "<Figure size 432x288 with 0 Axes>"
     },
     "metadata": {},
     "output_type": "display_data"
    },
    {
     "data": {
      "text/plain": "<Figure size 432x288 with 0 Axes>"
     },
     "metadata": {},
     "output_type": "display_data"
    },
    {
     "data": {
      "text/plain": "<Figure size 432x288 with 0 Axes>"
     },
     "metadata": {},
     "output_type": "display_data"
    },
    {
     "data": {
      "text/plain": "<Figure size 432x288 with 0 Axes>"
     },
     "metadata": {},
     "output_type": "display_data"
    },
    {
     "data": {
      "text/plain": "<Figure size 432x288 with 0 Axes>"
     },
     "metadata": {},
     "output_type": "display_data"
    },
    {
     "data": {
      "text/plain": "<Figure size 432x288 with 0 Axes>"
     },
     "metadata": {},
     "output_type": "display_data"
    },
    {
     "data": {
      "text/plain": "<Figure size 432x288 with 0 Axes>"
     },
     "metadata": {},
     "output_type": "display_data"
    },
    {
     "data": {
      "text/plain": "<Figure size 432x288 with 0 Axes>"
     },
     "metadata": {},
     "output_type": "display_data"
    },
    {
     "data": {
      "text/plain": "<Figure size 432x288 with 0 Axes>"
     },
     "metadata": {},
     "output_type": "display_data"
    },
    {
     "data": {
      "text/plain": "<Figure size 432x288 with 0 Axes>"
     },
     "metadata": {},
     "output_type": "display_data"
    },
    {
     "data": {
      "text/plain": "<Figure size 432x288 with 0 Axes>"
     },
     "metadata": {},
     "output_type": "display_data"
    },
    {
     "data": {
      "text/plain": "<Figure size 432x288 with 0 Axes>"
     },
     "metadata": {},
     "output_type": "display_data"
    },
    {
     "data": {
      "text/plain": "<Figure size 432x288 with 0 Axes>"
     },
     "metadata": {},
     "output_type": "display_data"
    },
    {
     "data": {
      "text/plain": "<Figure size 432x288 with 0 Axes>"
     },
     "metadata": {},
     "output_type": "display_data"
    },
    {
     "data": {
      "text/plain": "<Figure size 432x288 with 0 Axes>"
     },
     "metadata": {},
     "output_type": "display_data"
    },
    {
     "data": {
      "text/plain": "<Figure size 432x288 with 0 Axes>"
     },
     "metadata": {},
     "output_type": "display_data"
    },
    {
     "data": {
      "text/plain": "<Figure size 432x288 with 0 Axes>"
     },
     "metadata": {},
     "output_type": "display_data"
    },
    {
     "data": {
      "text/plain": "<Figure size 432x288 with 0 Axes>"
     },
     "metadata": {},
     "output_type": "display_data"
    },
    {
     "data": {
      "text/plain": "<Figure size 432x288 with 0 Axes>"
     },
     "metadata": {},
     "output_type": "display_data"
    },
    {
     "data": {
      "text/plain": "<Figure size 432x288 with 0 Axes>"
     },
     "metadata": {},
     "output_type": "display_data"
    },
    {
     "data": {
      "text/plain": "<Figure size 432x288 with 0 Axes>"
     },
     "metadata": {},
     "output_type": "display_data"
    },
    {
     "data": {
      "text/plain": "<Figure size 432x288 with 0 Axes>"
     },
     "metadata": {},
     "output_type": "display_data"
    },
    {
     "data": {
      "text/plain": "<Figure size 432x288 with 0 Axes>"
     },
     "metadata": {},
     "output_type": "display_data"
    },
    {
     "data": {
      "text/plain": "<Figure size 432x288 with 0 Axes>"
     },
     "metadata": {},
     "output_type": "display_data"
    },
    {
     "data": {
      "text/plain": "<Figure size 432x288 with 0 Axes>"
     },
     "metadata": {},
     "output_type": "display_data"
    },
    {
     "data": {
      "text/plain": "<Figure size 432x288 with 0 Axes>"
     },
     "metadata": {},
     "output_type": "display_data"
    },
    {
     "data": {
      "text/plain": "<Figure size 432x288 with 0 Axes>"
     },
     "metadata": {},
     "output_type": "display_data"
    },
    {
     "data": {
      "text/plain": "<Figure size 432x288 with 0 Axes>"
     },
     "metadata": {},
     "output_type": "display_data"
    },
    {
     "data": {
      "text/plain": "<Figure size 432x288 with 0 Axes>"
     },
     "metadata": {},
     "output_type": "display_data"
    },
    {
     "data": {
      "text/plain": "<Figure size 432x288 with 0 Axes>"
     },
     "metadata": {},
     "output_type": "display_data"
    },
    {
     "data": {
      "text/plain": "<Figure size 432x288 with 0 Axes>"
     },
     "metadata": {},
     "output_type": "display_data"
    },
    {
     "data": {
      "text/plain": "<Figure size 432x288 with 0 Axes>"
     },
     "metadata": {},
     "output_type": "display_data"
    },
    {
     "data": {
      "text/plain": "<Figure size 432x288 with 0 Axes>"
     },
     "metadata": {},
     "output_type": "display_data"
    },
    {
     "data": {
      "text/plain": "<Figure size 432x288 with 0 Axes>"
     },
     "metadata": {},
     "output_type": "display_data"
    },
    {
     "data": {
      "text/plain": "<Figure size 432x288 with 0 Axes>"
     },
     "metadata": {},
     "output_type": "display_data"
    },
    {
     "data": {
      "text/plain": "<Figure size 432x288 with 0 Axes>"
     },
     "metadata": {},
     "output_type": "display_data"
    },
    {
     "data": {
      "text/plain": "<Figure size 432x288 with 0 Axes>"
     },
     "metadata": {},
     "output_type": "display_data"
    },
    {
     "data": {
      "text/plain": "<Figure size 432x288 with 0 Axes>"
     },
     "metadata": {},
     "output_type": "display_data"
    },
    {
     "data": {
      "text/plain": "<Figure size 432x288 with 0 Axes>"
     },
     "metadata": {},
     "output_type": "display_data"
    },
    {
     "data": {
      "text/plain": "<Figure size 432x288 with 0 Axes>"
     },
     "metadata": {},
     "output_type": "display_data"
    },
    {
     "data": {
      "text/plain": "<Figure size 432x288 with 0 Axes>"
     },
     "metadata": {},
     "output_type": "display_data"
    },
    {
     "data": {
      "text/plain": "<Figure size 432x288 with 0 Axes>"
     },
     "metadata": {},
     "output_type": "display_data"
    },
    {
     "data": {
      "text/plain": "<Figure size 432x288 with 0 Axes>"
     },
     "metadata": {},
     "output_type": "display_data"
    },
    {
     "data": {
      "text/plain": "<Figure size 432x288 with 0 Axes>"
     },
     "metadata": {},
     "output_type": "display_data"
    },
    {
     "data": {
      "text/plain": "<Figure size 432x288 with 0 Axes>"
     },
     "metadata": {},
     "output_type": "display_data"
    },
    {
     "data": {
      "text/plain": "<Figure size 432x288 with 0 Axes>"
     },
     "metadata": {},
     "output_type": "display_data"
    },
    {
     "data": {
      "text/plain": "<Figure size 432x288 with 0 Axes>"
     },
     "metadata": {},
     "output_type": "display_data"
    },
    {
     "data": {
      "text/plain": "<Figure size 432x288 with 0 Axes>"
     },
     "metadata": {},
     "output_type": "display_data"
    },
    {
     "data": {
      "text/plain": "<Figure size 432x288 with 0 Axes>"
     },
     "metadata": {},
     "output_type": "display_data"
    },
    {
     "data": {
      "text/plain": "<Figure size 432x288 with 0 Axes>"
     },
     "metadata": {},
     "output_type": "display_data"
    },
    {
     "data": {
      "text/plain": "<Figure size 432x288 with 0 Axes>"
     },
     "metadata": {},
     "output_type": "display_data"
    },
    {
     "data": {
      "text/plain": "<Figure size 432x288 with 0 Axes>"
     },
     "metadata": {},
     "output_type": "display_data"
    },
    {
     "data": {
      "text/plain": "<Figure size 432x288 with 0 Axes>"
     },
     "metadata": {},
     "output_type": "display_data"
    },
    {
     "data": {
      "text/plain": "<Figure size 432x288 with 0 Axes>"
     },
     "metadata": {},
     "output_type": "display_data"
    },
    {
     "data": {
      "text/plain": "<Figure size 432x288 with 0 Axes>"
     },
     "metadata": {},
     "output_type": "display_data"
    },
    {
     "data": {
      "text/plain": "<Figure size 432x288 with 0 Axes>"
     },
     "metadata": {},
     "output_type": "display_data"
    },
    {
     "data": {
      "text/plain": "<Figure size 432x288 with 0 Axes>"
     },
     "metadata": {},
     "output_type": "display_data"
    },
    {
     "data": {
      "text/plain": "<Figure size 432x288 with 0 Axes>"
     },
     "metadata": {},
     "output_type": "display_data"
    },
    {
     "data": {
      "text/plain": "<Figure size 432x288 with 0 Axes>"
     },
     "metadata": {},
     "output_type": "display_data"
    },
    {
     "data": {
      "text/plain": "<Figure size 432x288 with 0 Axes>"
     },
     "metadata": {},
     "output_type": "display_data"
    },
    {
     "data": {
      "text/plain": "<Figure size 432x288 with 0 Axes>"
     },
     "metadata": {},
     "output_type": "display_data"
    },
    {
     "data": {
      "text/plain": "<Figure size 432x288 with 0 Axes>"
     },
     "metadata": {},
     "output_type": "display_data"
    },
    {
     "data": {
      "text/plain": "<Figure size 432x288 with 0 Axes>"
     },
     "metadata": {},
     "output_type": "display_data"
    },
    {
     "data": {
      "text/plain": "<Figure size 432x288 with 0 Axes>"
     },
     "metadata": {},
     "output_type": "display_data"
    },
    {
     "data": {
      "text/plain": "<Figure size 432x288 with 0 Axes>"
     },
     "metadata": {},
     "output_type": "display_data"
    },
    {
     "data": {
      "text/plain": "<Figure size 432x288 with 0 Axes>"
     },
     "metadata": {},
     "output_type": "display_data"
    },
    {
     "data": {
      "text/plain": "<Figure size 432x288 with 0 Axes>"
     },
     "metadata": {},
     "output_type": "display_data"
    },
    {
     "data": {
      "text/plain": "<Figure size 432x288 with 0 Axes>"
     },
     "metadata": {},
     "output_type": "display_data"
    },
    {
     "data": {
      "text/plain": "<Figure size 432x288 with 0 Axes>"
     },
     "metadata": {},
     "output_type": "display_data"
    },
    {
     "data": {
      "text/plain": "<Figure size 432x288 with 0 Axes>"
     },
     "metadata": {},
     "output_type": "display_data"
    },
    {
     "data": {
      "text/plain": "<Figure size 432x288 with 0 Axes>"
     },
     "metadata": {},
     "output_type": "display_data"
    },
    {
     "data": {
      "text/plain": "<Figure size 432x288 with 0 Axes>"
     },
     "metadata": {},
     "output_type": "display_data"
    },
    {
     "data": {
      "text/plain": "<Figure size 432x288 with 0 Axes>"
     },
     "metadata": {},
     "output_type": "display_data"
    },
    {
     "data": {
      "text/plain": "<Figure size 432x288 with 0 Axes>"
     },
     "metadata": {},
     "output_type": "display_data"
    },
    {
     "data": {
      "text/plain": "<Figure size 432x288 with 0 Axes>"
     },
     "metadata": {},
     "output_type": "display_data"
    },
    {
     "data": {
      "text/plain": "<Figure size 432x288 with 0 Axes>"
     },
     "metadata": {},
     "output_type": "display_data"
    },
    {
     "data": {
      "text/plain": "<Figure size 432x288 with 0 Axes>"
     },
     "metadata": {},
     "output_type": "display_data"
    },
    {
     "data": {
      "text/plain": "<Figure size 432x288 with 0 Axes>"
     },
     "metadata": {},
     "output_type": "display_data"
    },
    {
     "data": {
      "text/plain": "<Figure size 432x288 with 0 Axes>"
     },
     "metadata": {},
     "output_type": "display_data"
    },
    {
     "data": {
      "text/plain": "<Figure size 432x288 with 0 Axes>"
     },
     "metadata": {},
     "output_type": "display_data"
    },
    {
     "data": {
      "text/plain": "<Figure size 432x288 with 0 Axes>"
     },
     "metadata": {},
     "output_type": "display_data"
    },
    {
     "data": {
      "text/plain": "<Figure size 432x288 with 0 Axes>"
     },
     "metadata": {},
     "output_type": "display_data"
    },
    {
     "data": {
      "text/plain": "<Figure size 432x288 with 0 Axes>"
     },
     "metadata": {},
     "output_type": "display_data"
    },
    {
     "data": {
      "text/plain": "<Figure size 432x288 with 0 Axes>"
     },
     "metadata": {},
     "output_type": "display_data"
    },
    {
     "data": {
      "text/plain": "<Figure size 432x288 with 0 Axes>"
     },
     "metadata": {},
     "output_type": "display_data"
    },
    {
     "data": {
      "text/plain": "<Figure size 432x288 with 0 Axes>"
     },
     "metadata": {},
     "output_type": "display_data"
    },
    {
     "data": {
      "text/plain": "<Figure size 432x288 with 0 Axes>"
     },
     "metadata": {},
     "output_type": "display_data"
    },
    {
     "data": {
      "text/plain": "<Figure size 432x288 with 0 Axes>"
     },
     "metadata": {},
     "output_type": "display_data"
    },
    {
     "data": {
      "text/plain": "<Figure size 432x288 with 0 Axes>"
     },
     "metadata": {},
     "output_type": "display_data"
    },
    {
     "data": {
      "text/plain": "<Figure size 432x288 with 0 Axes>"
     },
     "metadata": {},
     "output_type": "display_data"
    },
    {
     "data": {
      "text/plain": "<Figure size 432x288 with 0 Axes>"
     },
     "metadata": {},
     "output_type": "display_data"
    },
    {
     "data": {
      "text/plain": "<Figure size 432x288 with 0 Axes>"
     },
     "metadata": {},
     "output_type": "display_data"
    },
    {
     "data": {
      "text/plain": "<Figure size 432x288 with 0 Axes>"
     },
     "metadata": {},
     "output_type": "display_data"
    },
    {
     "data": {
      "text/plain": "<Figure size 432x288 with 0 Axes>"
     },
     "metadata": {},
     "output_type": "display_data"
    },
    {
     "data": {
      "text/plain": "<Figure size 432x288 with 0 Axes>"
     },
     "metadata": {},
     "output_type": "display_data"
    },
    {
     "data": {
      "text/plain": "<Figure size 432x288 with 0 Axes>"
     },
     "metadata": {},
     "output_type": "display_data"
    },
    {
     "data": {
      "text/plain": "<Figure size 432x288 with 0 Axes>"
     },
     "metadata": {},
     "output_type": "display_data"
    },
    {
     "data": {
      "text/plain": "<Figure size 432x288 with 0 Axes>"
     },
     "metadata": {},
     "output_type": "display_data"
    },
    {
     "data": {
      "text/plain": "<Figure size 432x288 with 0 Axes>"
     },
     "metadata": {},
     "output_type": "display_data"
    },
    {
     "data": {
      "text/plain": "<Figure size 432x288 with 0 Axes>"
     },
     "metadata": {},
     "output_type": "display_data"
    },
    {
     "data": {
      "text/plain": "<Figure size 432x288 with 0 Axes>"
     },
     "metadata": {},
     "output_type": "display_data"
    },
    {
     "data": {
      "text/plain": "<Figure size 432x288 with 0 Axes>"
     },
     "metadata": {},
     "output_type": "display_data"
    },
    {
     "data": {
      "text/plain": "<Figure size 432x288 with 0 Axes>"
     },
     "metadata": {},
     "output_type": "display_data"
    },
    {
     "data": {
      "text/plain": "<Figure size 432x288 with 0 Axes>"
     },
     "metadata": {},
     "output_type": "display_data"
    },
    {
     "data": {
      "text/plain": "<Figure size 432x288 with 0 Axes>"
     },
     "metadata": {},
     "output_type": "display_data"
    },
    {
     "data": {
      "text/plain": "<Figure size 432x288 with 0 Axes>"
     },
     "metadata": {},
     "output_type": "display_data"
    },
    {
     "data": {
      "text/plain": "<Figure size 432x288 with 0 Axes>"
     },
     "metadata": {},
     "output_type": "display_data"
    }
   ],
   "source": [
    "dofs = ['Image Size', 'Number of angles', 'Number of GPUs']\n",
    "targets = ['nRMSE', 'Average Time']\n",
    "\n",
    "figure_format = '.jpg'\n",
    "figure_output_dir = Path.cwd() / 'figures/comparison'\n",
    "if not figure_output_dir.exists():\n",
    "    figure_output_dir.mkdir()\n",
    "\n",
    "methods = df['Method'].unique()\n",
    "\n",
    "for d in dofs:\n",
    "    print(f\"DOF: {d}\")\n",
    "    config = list(set(dofs).difference({d}))\n",
    "    groups = df.groupby(config)\n",
    "\n",
    "    # plot for each\n",
    "    for _, (key, item) in enumerate(groups):\n",
    "        # print(item)\n",
    "        # print((key, config))\n",
    "        for __, t in enumerate(targets):\n",
    "            # build figure name <config_name>.<config_value>-<config_name>.<config_value>-...\n",
    "            config_parts = []\n",
    "            for config_name, config_value in zip(config, key):\n",
    "                config_parts.append(f'{config_name}.{config_value}')\n",
    "            figure_name = '-'.join(config_parts)\n",
    "            figure_name = f'{figure_name}-{t}'\n",
    "\n",
    "\n",
    "            # build figure title\n",
    "            config_parts = []\n",
    "            for config_name, config_value in zip(config, key):\n",
    "                config_parts.append(f'{config_name}={config_value}')\n",
    "            figure_title = ' '.join(config_parts)\n",
    "\n",
    "            # n_groups x 2 columns, col=0 method == fdk, col=1 method=iterative\n",
    "            figure, axes = plt.subplots(nrows=1, ncols=len(methods))\n",
    "            # plot fdk on the left column and iterative methods on the right column\n",
    "            for i, method_name in enumerate(methods):\n",
    "                sns.lineplot(\n",
    "                    data=item[item['Method'] == method_name],\n",
    "                    x=d,\n",
    "                    y=t,\n",
    "                    hue='Method',\n",
    "                    ax=axes[i]\n",
    "                )\n",
    "            axes[0].set_title(figure_title)\n",
    "\n",
    "            save_file = figure_output_dir / f'{figure_name}{figure_format}'\n",
    "            print(f'Saving figure to {str(save_file)}')\n",
    "            figure.savefig(save_file)\n",
    "            figure.clf()"
   ],
   "metadata": {
    "collapsed": false,
    "pycharm": {
     "name": "#%%\n"
    }
   }
  }
 ],
 "metadata": {
  "kernelspec": {
   "display_name": "Python 3",
   "language": "python",
   "name": "python3"
  },
  "language_info": {
   "codemirror_mode": {
    "name": "ipython",
    "version": 2
   },
   "file_extension": ".py",
   "mimetype": "text/x-python",
   "name": "python",
   "nbconvert_exporter": "python",
   "pygments_lexer": "ipython2",
   "version": "2.7.6"
  }
 },
 "nbformat": 4,
 "nbformat_minor": 0
}